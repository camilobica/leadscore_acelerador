{
 "cells": [
  {
   "cell_type": "code",
   "execution_count": 1,
   "id": "80dda9d1-ea1d-43e9-bcfb-7f934d5e9dc0",
   "metadata": {},
   "outputs": [
    {
     "ename": "ValueError",
     "evalue": "Tag 'LEAD L3-25' não encontrada!",
     "output_type": "error",
     "traceback": [
      "\u001b[1;31m---------------------------------------------------------------------------\u001b[0m",
      "\u001b[1;31mValueError\u001b[0m                                Traceback (most recent call last)",
      "Cell \u001b[1;32mIn[1], line 40\u001b[0m\n\u001b[0;32m     38\u001b[0m tag_id \u001b[38;5;241m=\u001b[39m \u001b[38;5;28mnext\u001b[39m((t[\u001b[38;5;124m\"\u001b[39m\u001b[38;5;124mid\u001b[39m\u001b[38;5;124m\"\u001b[39m] \u001b[38;5;28;01mfor\u001b[39;00m t \u001b[38;5;129;01min\u001b[39;00m tags \u001b[38;5;28;01mif\u001b[39;00m t[\u001b[38;5;124m\"\u001b[39m\u001b[38;5;124mtag\u001b[39m\u001b[38;5;124m\"\u001b[39m] \u001b[38;5;241m==\u001b[39m \u001b[38;5;124m\"\u001b[39m\u001b[38;5;124mLEAD L3-25\u001b[39m\u001b[38;5;124m\"\u001b[39m), \u001b[38;5;28;01mNone\u001b[39;00m)\n\u001b[0;32m     39\u001b[0m \u001b[38;5;28;01mif\u001b[39;00m \u001b[38;5;129;01mnot\u001b[39;00m tag_id:\n\u001b[1;32m---> 40\u001b[0m     \u001b[38;5;28;01mraise\u001b[39;00m \u001b[38;5;167;01mValueError\u001b[39;00m(\u001b[38;5;124m\"\u001b[39m\u001b[38;5;124mTag \u001b[39m\u001b[38;5;124m'\u001b[39m\u001b[38;5;124mLEAD L3-25\u001b[39m\u001b[38;5;124m'\u001b[39m\u001b[38;5;124m não encontrada!\u001b[39m\u001b[38;5;124m\"\u001b[39m)\n\u001b[0;32m     42\u001b[0m \u001b[38;5;66;03m# === Coletar IDs dos contatos com essa tag ===\u001b[39;00m\n\u001b[0;32m     43\u001b[0m contatos_filtrados \u001b[38;5;241m=\u001b[39m { ct[\u001b[38;5;124m\"\u001b[39m\u001b[38;5;124mcontact\u001b[39m\u001b[38;5;124m\"\u001b[39m] \u001b[38;5;28;01mfor\u001b[39;00m ct \u001b[38;5;129;01min\u001b[39;00m contact_tags \u001b[38;5;28;01mif\u001b[39;00m ct[\u001b[38;5;124m\"\u001b[39m\u001b[38;5;124mtag\u001b[39m\u001b[38;5;124m\"\u001b[39m] \u001b[38;5;241m==\u001b[39m tag_id }\n",
      "\u001b[1;31mValueError\u001b[0m: Tag 'LEAD L3-25' não encontrada!"
     ]
    }
   ],
   "source": [
    "import os\n",
    "from dotenv import load_dotenv\n",
    "import requests\n",
    "import pandas as pd\n",
    "\n",
    "# === Carregar variáveis do .env ===\n",
    "load_dotenv()\n",
    "API_URL = os.getenv(\"API_URL\")\n",
    "API_KEY = os.getenv(\"API_KEY\")\n",
    "HEADERS = { \"Api-Token\": API_KEY }\n",
    "\n",
    "# === Função de paginação ===\n",
    "def paginar(endpoint):\n",
    "    results = []\n",
    "    offset = 0\n",
    "    limit = 100\n",
    "    while True:\n",
    "        url = f\"{API_URL}/{endpoint}?limit={limit}&offset={offset}\"\n",
    "        r = requests.get(url, headers=HEADERS)\n",
    "        r.raise_for_status()\n",
    "        data = r.json()\n",
    "        chave = endpoint.split('?')[0].split('/')[0] + 's'\n",
    "        items = data.get(chave) or []\n",
    "        if not items:\n",
    "            break\n",
    "        results.extend(items)\n",
    "        offset += limit\n",
    "    return results\n",
    "\n",
    "# === Buscar dados ===\n",
    "contatos = paginar(\"contacts\")\n",
    "fields = paginar(\"fields\")\n",
    "field_values = paginar(\"fieldValues\")\n",
    "tags = paginar(\"tags\")\n",
    "contact_tags = paginar(\"contactTags\")\n",
    "\n",
    "# === Mapear ID da tag \"LEAD L3-25\" ===\n",
    "tag_id = next((t[\"id\"] for t in tags if t[\"tag\"] == \"LEAD L3-25\"), None)\n",
    "if not tag_id:\n",
    "    raise ValueError(\"Tag 'LEAD L3-25' não encontrada!\")\n",
    "\n",
    "# === Coletar IDs dos contatos com essa tag ===\n",
    "contatos_filtrados = { ct[\"contact\"] for ct in contact_tags if ct[\"tag\"] == tag_id }\n",
    "\n",
    "# === Mapear UTMs por contato ===\n",
    "utm_fields = {}\n",
    "for f in fields:\n",
    "    if f[\"title\"].lower() in [\"utm_source\", \"utm_medium\", \"utm_campaign\"]:\n",
    "        utm_fields[f[\"id\"]] = f[\"title\"].lower()\n",
    "\n",
    "utm_por_contato = {}\n",
    "for item in field_values:\n",
    "    cid = item[\"contact\"]\n",
    "    fid = item[\"field\"]\n",
    "    if fid in utm_fields:\n",
    "        if cid not in utm_por_contato:\n",
    "            utm_por_contato[cid] = {}\n",
    "        utm_por_contato[cid][utm_fields[fid]] = item[\"value\"]\n",
    "\n",
    "# === Montar DataFrame com leads da tag específica ===\n",
    "dados = []\n",
    "for c in contatos:\n",
    "    cid = c[\"id\"]\n",
    "    if cid not in contatos_filtrados:\n",
    "        continue\n",
    "    row = {\n",
    "        \"email\": c[\"email\"],\n",
    "        \"data_inscricao\": c[\"created_timestamp\"],\n",
    "        \"utm_source\": utm_por_contato.get(cid, {}).get(\"utm_source\", \"\"),\n",
    "        \"utm_medium\": utm_por_contato.get(cid, {}).get(\"utm_medium\", \"\"),\n",
    "        \"utm_campaign\": utm_por_contato.get(cid, {}).get(\"utm_campaign\", \"\")\n",
    "    }\n",
    "    dados.append(row)\n",
    "\n",
    "df = pd.DataFrame(dados)\n",
    "df[\"data_inscricao\"] = pd.to_datetime(df[\"data_inscricao\"])\n",
    "df = df.sort_values(\"data_inscricao\", ascending=False)\n",
    "\n",
    "# Visualizar\n",
    "df.head()"
   ]
  },
  {
   "cell_type": "code",
   "execution_count": null,
   "id": "62164494-9c57-4210-bc66-ea14a1998fe8",
   "metadata": {},
   "outputs": [],
   "source": [
    "print(f\"Quantidade de tags encontradas: {len(tags)}\")\n",
    "print(tags[:5])  # mostra as 5 primeiras (se houver)"
   ]
  },
  {
   "cell_type": "code",
   "execution_count": null,
   "id": "fea9ed6a-229c-40f2-9394-68c25ee7941f",
   "metadata": {},
   "outputs": [],
   "source": [
    "# Filtrar por data (apenas leads inscritos após 01/04/2024)\n",
    "df[\"data_inscricao\"] = pd.to_datetime(df[\"data_inscricao\"])\n",
    "df_lancamento = df[df[\"data_inscricao\"] >= \"2024-04-01\"]"
   ]
  }
 ],
 "metadata": {
  "kernelspec": {
   "display_name": "Python (ambiente_controlado)",
   "language": "python",
   "name": "ambiente_controlado"
  },
  "language_info": {
   "codemirror_mode": {
    "name": "ipython",
    "version": 3
   },
   "file_extension": ".py",
   "mimetype": "text/x-python",
   "name": "python",
   "nbconvert_exporter": "python",
   "pygments_lexer": "ipython3",
   "version": "3.12.3"
  }
 },
 "nbformat": 4,
 "nbformat_minor": 5
}
