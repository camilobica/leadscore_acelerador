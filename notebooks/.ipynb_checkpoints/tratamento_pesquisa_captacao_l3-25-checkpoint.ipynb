{
 "cells": [
  {
   "cell_type": "code",
   "execution_count": 1,
   "id": "ec2e3bac-7864-48c4-8ab6-c51a1daac107",
   "metadata": {},
   "outputs": [
    {
     "data": {
      "text/html": [
       "<div>\n",
       "<style scoped>\n",
       "    .dataframe tbody tr th:only-of-type {\n",
       "        vertical-align: middle;\n",
       "    }\n",
       "\n",
       "    .dataframe tbody tr th {\n",
       "        vertical-align: top;\n",
       "    }\n",
       "\n",
       "    .dataframe thead th {\n",
       "        text-align: right;\n",
       "    }\n",
       "</style>\n",
       "<table border=\"1\" class=\"dataframe\">\n",
       "  <thead>\n",
       "    <tr style=\"text-align: right;\">\n",
       "      <th></th>\n",
       "    </tr>\n",
       "  </thead>\n",
       "  <tbody>\n",
       "  </tbody>\n",
       "</table>\n",
       "</div>"
      ],
      "text/plain": [
       "Empty DataFrame\n",
       "Columns: []\n",
       "Index: []"
      ]
     },
     "execution_count": 1,
     "metadata": {},
     "output_type": "execute_result"
    }
   ],
   "source": [
    "import gspread\n",
    "from oauth2client.service_account import ServiceAccountCredentials\n",
    "import pandas as pd\n",
    "\n",
    "# === 1. Definir escopos de acesso ===\n",
    "scope = [\n",
    "    \"https://spreadsheets.google.com/feeds\",\n",
    "    \"https://www.googleapis.com/auth/drive\"\n",
    "]\n",
    "\n",
    "# === 2. Carregar credenciais do arquivo JSON ===\n",
    "cred_path = \"C:/Users/Camilo_Bica/data_science/consultoria/portal_vhe/credenciais_gsheets.json\"\n",
    "creds = ServiceAccountCredentials.from_json_keyfile_name(cred_path, scope)\n",
    "client = gspread.authorize(creds)\n",
    "\n",
    "# === 3. Abrir a planilha pelo nome ===\n",
    "planilha_leads = client.open(\"[L3-25] Pesquisa CAPTAÇÃO (respostas)\") \n",
    "aba_leads = planilha_leads.sheet1\n",
    "dados_leads = aba_leads.get_all_records()\n",
    "df_pesquisa_captacao_l3_25 = pd.DataFrame(dados_leads)\n",
    "\n",
    "# === 3. Abrir a planilha pelo nome ===\n",
    "planilha_alunos = client.open(\"[L3-25] Pesquisa ALUNOS (respostas)\") \n",
    "aba_alunos = planilha_alunos.sheet1\n",
    "dados_alunos = aba_alunos.get_all_records()\n",
    "df_pesquisa_alunos_l3_25 = pd.DataFrame(dados_alunos)\n",
    "\n",
    "df_pesquisa_captacao_l3_25.head()"
   ]
  },
  {
   "cell_type": "code",
   "execution_count": 2,
   "id": "515e9886-297c-4b4a-8021-bcb40f8971b8",
   "metadata": {},
   "outputs": [
    {
     "name": "stdout",
     "output_type": "stream",
     "text": [
      "<class 'pandas.core.frame.DataFrame'>\n",
      "RangeIndex: 0 entries\n",
      "Empty DataFrame\n"
     ]
    }
   ],
   "source": [
    "df_pesquisa_captacao_l3_25.info()"
   ]
  }
 ],
 "metadata": {
  "kernelspec": {
   "display_name": "Python (ambiente_controlado)",
   "language": "python",
   "name": "ambiente_controlado"
  },
  "language_info": {
   "codemirror_mode": {
    "name": "ipython",
    "version": 3
   },
   "file_extension": ".py",
   "mimetype": "text/x-python",
   "name": "python",
   "nbconvert_exporter": "python",
   "pygments_lexer": "ipython3",
   "version": "3.12.3"
  }
 },
 "nbformat": 4,
 "nbformat_minor": 5
}
