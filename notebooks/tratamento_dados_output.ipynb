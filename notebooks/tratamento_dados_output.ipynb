{
 "cells": [
  {
   "cell_type": "markdown",
   "id": "44e5444d",
   "metadata": {
    "tags": [
     "papermill-error-cell-tag"
    ]
   },
   "source": [
    "<span style=\"color:red; font-family:Helvetica Neue, Helvetica, Arial, sans-serif; font-size:2em;\">An Exception was encountered at '<a href=\"#papermill-error-cell\">In [1]</a>'.</span>"
   ]
  },
  {
   "cell_type": "markdown",
   "id": "191eba32",
   "metadata": {
    "tags": [
     "papermill-error-cell-tag"
    ]
   },
   "source": [
    "<span id=\"papermill-error-cell\" style=\"color:red; font-family:Helvetica Neue, Helvetica, Arial, sans-serif; font-size:2em;\">Execution using papermill encountered an exception here and stopped:</span>"
   ]
  },
  {
   "cell_type": "code",
   "execution_count": 1,
   "id": "55b5aa7e-8f51-4526-9db0-9556b0f3a784",
   "metadata": {
    "execution": {
     "iopub.execute_input": "2025-05-14T17:00:16.006468Z",
     "iopub.status.busy": "2025-05-14T17:00:16.006468Z",
     "iopub.status.idle": "2025-05-14T17:00:22.761564Z",
     "shell.execute_reply": "2025-05-14T17:00:22.761564Z"
    },
    "papermill": {
     "duration": 6.761592,
     "end_time": "2025-05-14T17:00:22.767425",
     "exception": true,
     "start_time": "2025-05-14T17:00:16.005833",
     "status": "failed"
    },
    "tags": []
   },
   "outputs": [
    {
     "ename": "APIError",
     "evalue": "APIError: [429]: Resource has been exhausted (e.g. check quota).",
     "output_type": "error",
     "traceback": [
      "\u001b[1;31m---------------------------------------------------------------------------\u001b[0m",
      "\u001b[1;31mAPIError\u001b[0m                                  Traceback (most recent call last)",
      "Cell \u001b[1;32mIn[1], line 43\u001b[0m\n\u001b[0;32m     40\u001b[0m id_compradores_ssp \u001b[38;5;241m=\u001b[39m \u001b[38;5;124m\"\u001b[39m\u001b[38;5;124m1A3D8JNPlZNpxkwcXQ_7CxalNEZyLo8KmJP6Sa_A-3NU\u001b[39m\u001b[38;5;124m\"\u001b[39m\n\u001b[0;32m     42\u001b[0m \u001b[38;5;66;03m# === Carregar DataFrames ===\u001b[39;00m\n\u001b[1;32m---> 43\u001b[0m df_leads_trafego \u001b[38;5;241m=\u001b[39m carregar_aba(id_dados_leads_ssp, \u001b[38;5;124m\"\u001b[39m\u001b[38;5;124mPágina1\u001b[39m\u001b[38;5;124m\"\u001b[39m)\n\u001b[0;32m     44\u001b[0m df_pesquisa_captacao \u001b[38;5;241m=\u001b[39m carregar_aba(id_pesquisa_ssp, \u001b[38;5;124m\"\u001b[39m\u001b[38;5;124mPágina1\u001b[39m\u001b[38;5;124m\"\u001b[39m)\n\u001b[0;32m     45\u001b[0m df_compradores \u001b[38;5;241m=\u001b[39m carregar_aba(id_compradores_ssp, \u001b[38;5;124m\"\u001b[39m\u001b[38;5;124mCompradores\u001b[39m\u001b[38;5;124m\"\u001b[39m)\n",
      "Cell \u001b[1;32mIn[1], line 32\u001b[0m, in \u001b[0;36mcarregar_aba\u001b[1;34m(sheet_id, aba_nome)\u001b[0m\n\u001b[0;32m     31\u001b[0m \u001b[38;5;28;01mdef\u001b[39;00m \u001b[38;5;21mcarregar_aba\u001b[39m(sheet_id, aba_nome):\n\u001b[1;32m---> 32\u001b[0m     planilha \u001b[38;5;241m=\u001b[39m client\u001b[38;5;241m.\u001b[39mopen_by_key(sheet_id)\n\u001b[0;32m     33\u001b[0m     aba \u001b[38;5;241m=\u001b[39m planilha\u001b[38;5;241m.\u001b[39mworksheet(aba_nome)\n\u001b[0;32m     34\u001b[0m     dados \u001b[38;5;241m=\u001b[39m aba\u001b[38;5;241m.\u001b[39mget_all_records()\n",
      "File \u001b[1;32m~\\anaconda3\\Lib\\site-packages\\gspread\\client.py:174\u001b[0m, in \u001b[0;36mClient.open_by_key\u001b[1;34m(self, key)\u001b[0m\n\u001b[0;32m    172\u001b[0m     \u001b[38;5;28;01mif\u001b[39;00m ex\u001b[38;5;241m.\u001b[39mresponse\u001b[38;5;241m.\u001b[39mstatus_code \u001b[38;5;241m==\u001b[39m HTTPStatus\u001b[38;5;241m.\u001b[39mFORBIDDEN:\n\u001b[0;32m    173\u001b[0m         \u001b[38;5;28;01mraise\u001b[39;00m \u001b[38;5;167;01mPermissionError\u001b[39;00m \u001b[38;5;28;01mfrom\u001b[39;00m \u001b[38;5;21;01mex\u001b[39;00m\n\u001b[1;32m--> 174\u001b[0m     \u001b[38;5;28;01mraise\u001b[39;00m ex\n\u001b[0;32m    175\u001b[0m \u001b[38;5;28;01mreturn\u001b[39;00m spreadsheet\n",
      "File \u001b[1;32m~\\anaconda3\\Lib\\site-packages\\gspread\\client.py:168\u001b[0m, in \u001b[0;36mClient.open_by_key\u001b[1;34m(self, key)\u001b[0m\n\u001b[0;32m    160\u001b[0m \u001b[38;5;250m\u001b[39m\u001b[38;5;124;03m\"\"\"Opens a spreadsheet specified by `key` (a.k.a Spreadsheet ID).\u001b[39;00m\n\u001b[0;32m    161\u001b[0m \n\u001b[0;32m    162\u001b[0m \u001b[38;5;124;03m:param str key: A key of a spreadsheet as it appears in a URL in a browser.\u001b[39;00m\n\u001b[1;32m   (...)\u001b[0m\n\u001b[0;32m    165\u001b[0m \u001b[38;5;124;03m>>> gc.open_by_key('0BmgG6nO_6dprdS1MN3d3MkdPa142WFRrdnRRUWl1UFE')\u001b[39;00m\n\u001b[0;32m    166\u001b[0m \u001b[38;5;124;03m\"\"\"\u001b[39;00m\n\u001b[0;32m    167\u001b[0m \u001b[38;5;28;01mtry\u001b[39;00m:\n\u001b[1;32m--> 168\u001b[0m     spreadsheet \u001b[38;5;241m=\u001b[39m Spreadsheet(\u001b[38;5;28mself\u001b[39m\u001b[38;5;241m.\u001b[39mhttp_client, {\u001b[38;5;124m\"\u001b[39m\u001b[38;5;124mid\u001b[39m\u001b[38;5;124m\"\u001b[39m: key})\n\u001b[0;32m    169\u001b[0m \u001b[38;5;28;01mexcept\u001b[39;00m APIError \u001b[38;5;28;01mas\u001b[39;00m ex:\n\u001b[0;32m    170\u001b[0m     \u001b[38;5;28;01mif\u001b[39;00m ex\u001b[38;5;241m.\u001b[39mresponse\u001b[38;5;241m.\u001b[39mstatus_code \u001b[38;5;241m==\u001b[39m HTTPStatus\u001b[38;5;241m.\u001b[39mNOT_FOUND:\n",
      "File \u001b[1;32m~\\anaconda3\\Lib\\site-packages\\gspread\\spreadsheet.py:29\u001b[0m, in \u001b[0;36mSpreadsheet.__init__\u001b[1;34m(self, http_client, properties)\u001b[0m\n\u001b[0;32m     26\u001b[0m \u001b[38;5;28mself\u001b[39m\u001b[38;5;241m.\u001b[39mclient \u001b[38;5;241m=\u001b[39m http_client\n\u001b[0;32m     27\u001b[0m \u001b[38;5;28mself\u001b[39m\u001b[38;5;241m.\u001b[39m_properties \u001b[38;5;241m=\u001b[39m properties\n\u001b[1;32m---> 29\u001b[0m metadata \u001b[38;5;241m=\u001b[39m \u001b[38;5;28mself\u001b[39m\u001b[38;5;241m.\u001b[39mfetch_sheet_metadata()\n\u001b[0;32m     30\u001b[0m \u001b[38;5;28mself\u001b[39m\u001b[38;5;241m.\u001b[39m_properties\u001b[38;5;241m.\u001b[39mupdate(metadata[\u001b[38;5;124m\"\u001b[39m\u001b[38;5;124mproperties\u001b[39m\u001b[38;5;124m\"\u001b[39m])\n",
      "File \u001b[1;32m~\\anaconda3\\Lib\\site-packages\\gspread\\spreadsheet.py:230\u001b[0m, in \u001b[0;36mSpreadsheet.fetch_sheet_metadata\u001b[1;34m(self, params)\u001b[0m\n\u001b[0;32m    218\u001b[0m \u001b[38;5;28;01mdef\u001b[39;00m \u001b[38;5;21mfetch_sheet_metadata\u001b[39m(\n\u001b[0;32m    219\u001b[0m     \u001b[38;5;28mself\u001b[39m, params: Optional[ParamsType] \u001b[38;5;241m=\u001b[39m \u001b[38;5;28;01mNone\u001b[39;00m\n\u001b[0;32m    220\u001b[0m ) \u001b[38;5;241m-\u001b[39m\u001b[38;5;241m>\u001b[39m Mapping[\u001b[38;5;28mstr\u001b[39m, Any]:\n\u001b[0;32m    221\u001b[0m \u001b[38;5;250m    \u001b[39m\u001b[38;5;124;03m\"\"\"Similar to :method spreadsheets_get:`gspread.http_client.spreadsheets_get`,\u001b[39;00m\n\u001b[0;32m    222\u001b[0m \u001b[38;5;124;03m    get the spreadsheet form the API but by default **does not get the cells data**.\u001b[39;00m\n\u001b[0;32m    223\u001b[0m \u001b[38;5;124;03m    It only retrieve the the metadata from the spreadsheet.\u001b[39;00m\n\u001b[1;32m   (...)\u001b[0m\n\u001b[0;32m    228\u001b[0m \u001b[38;5;124;03m    :rtype: dict\u001b[39;00m\n\u001b[0;32m    229\u001b[0m \u001b[38;5;124;03m    \"\"\"\u001b[39;00m\n\u001b[1;32m--> 230\u001b[0m     \u001b[38;5;28;01mreturn\u001b[39;00m \u001b[38;5;28mself\u001b[39m\u001b[38;5;241m.\u001b[39mclient\u001b[38;5;241m.\u001b[39mfetch_sheet_metadata(\u001b[38;5;28mself\u001b[39m\u001b[38;5;241m.\u001b[39mid, params\u001b[38;5;241m=\u001b[39mparams)\n",
      "File \u001b[1;32m~\\anaconda3\\Lib\\site-packages\\gspread\\http_client.py:305\u001b[0m, in \u001b[0;36mHTTPClient.fetch_sheet_metadata\u001b[1;34m(self, id, params)\u001b[0m\n\u001b[0;32m    301\u001b[0m     params \u001b[38;5;241m=\u001b[39m {\u001b[38;5;124m\"\u001b[39m\u001b[38;5;124mincludeGridData\u001b[39m\u001b[38;5;124m\"\u001b[39m: \u001b[38;5;124m\"\u001b[39m\u001b[38;5;124mfalse\u001b[39m\u001b[38;5;124m\"\u001b[39m}\n\u001b[0;32m    303\u001b[0m url \u001b[38;5;241m=\u001b[39m SPREADSHEET_URL \u001b[38;5;241m%\u001b[39m \u001b[38;5;28mid\u001b[39m\n\u001b[1;32m--> 305\u001b[0m r \u001b[38;5;241m=\u001b[39m \u001b[38;5;28mself\u001b[39m\u001b[38;5;241m.\u001b[39mrequest(\u001b[38;5;124m\"\u001b[39m\u001b[38;5;124mget\u001b[39m\u001b[38;5;124m\"\u001b[39m, url, params\u001b[38;5;241m=\u001b[39mparams)\n\u001b[0;32m    307\u001b[0m \u001b[38;5;28;01mreturn\u001b[39;00m r\u001b[38;5;241m.\u001b[39mjson()\n",
      "File \u001b[1;32m~\\anaconda3\\Lib\\site-packages\\gspread\\http_client.py:128\u001b[0m, in \u001b[0;36mHTTPClient.request\u001b[1;34m(self, method, endpoint, params, data, json, files, headers)\u001b[0m\n\u001b[0;32m    126\u001b[0m     \u001b[38;5;28;01mreturn\u001b[39;00m response\n\u001b[0;32m    127\u001b[0m \u001b[38;5;28;01melse\u001b[39;00m:\n\u001b[1;32m--> 128\u001b[0m     \u001b[38;5;28;01mraise\u001b[39;00m APIError(response)\n",
      "\u001b[1;31mAPIError\u001b[0m: APIError: [429]: Resource has been exhausted (e.g. check quota)."
     ]
    }
   ],
   "source": [
    "import gspread\n",
    "import pandas as pd\n",
    "import os\n",
    "import numpy as np\n",
    "\n",
    "from dotenv import load_dotenv\n",
    "from google.oauth2 import service_account\n",
    "\n",
    "# === Carregar variáveis de ambiente ===\n",
    "load_dotenv()\n",
    "\n",
    "# === Definir escopos de acesso ===\n",
    "scopes = [\n",
    "    \"https://www.googleapis.com/auth/spreadsheets.readonly\",\n",
    "    \"https://www.googleapis.com/auth/drive.readonly\"\n",
    "]\n",
    "\n",
    "# === Caminho seguro para o arquivo JSON (lido do .env) ===\n",
    "cred_path = os.getenv('GOOGLE_CREDENTIALS_PATH')\n",
    "\n",
    "# === Carregar credenciais de forma moderna ===\n",
    "creds = service_account.Credentials.from_service_account_file(\n",
    "    cred_path,\n",
    "    scopes=scopes\n",
    ")\n",
    "\n",
    "# === Autorizar o cliente gspread ===\n",
    "client = gspread.authorize(creds)\n",
    "\n",
    "# === Função para carregar aba da planilha ===\n",
    "def carregar_aba(sheet_id, aba_nome):\n",
    "    planilha = client.open_by_key(sheet_id)\n",
    "    aba = planilha.worksheet(aba_nome)\n",
    "    dados = aba.get_all_records()\n",
    "    return pd.DataFrame(dados)\n",
    "\n",
    "# === IDs das planilhas (fixar no .env depois se quiser) ===\n",
    "id_dados_leads_ssp = \"1K7nLxfgu6ktdyFwlHMPJsj5xdv410tensfPccmmPDm8\"\n",
    "id_pesquisa_ssp = \"1pK0BP8n98DtQ8OwGeBhzcGgxQinFqZhZsQTk7_cYZIk\"\n",
    "id_compradores_ssp = \"1A3D8JNPlZNpxkwcXQ_7CxalNEZyLo8KmJP6Sa_A-3NU\"\n",
    "\n",
    "# === Carregar DataFrames ===\n",
    "df_leads_trafego = carregar_aba(id_dados_leads_ssp, \"Página1\")\n",
    "df_pesquisa_captacao = carregar_aba(id_pesquisa_ssp, \"Página1\")\n",
    "df_compradores = carregar_aba(id_compradores_ssp, \"Compradores\")"
   ]
  },
  {
   "cell_type": "code",
   "execution_count": null,
   "id": "e9fac78a-97eb-4dea-b5a8-1d3952063b0e",
   "metadata": {
    "papermill": {
     "duration": null,
     "end_time": null,
     "exception": null,
     "start_time": null,
     "status": "pending"
    },
    "tags": []
   },
   "outputs": [],
   "source": [
    "df_pesquisa_captacao = df_pesquisa_captacao.drop([\"Funil\"], axis=1, errors='ignore')\n",
    "df_pesquisa_captacao.rename(columns={'E-mail': 'email'}, inplace=True)\n",
    "df_pesquisa_captacao.columns = df_pesquisa_captacao.columns.str.lower()\n",
    "\n",
    "df_pesquisa_captacao['data'] = pd.to_datetime(df_pesquisa_captacao['data'], errors='coerce')\n",
    "df_pesquisa_captacao['data'] = df_pesquisa_captacao['data'].dt.tz_localize(None)\n",
    "df_pesquisa_captacao['data'] = df_pesquisa_captacao['data'].dt.normalize()\n",
    "\n",
    "df_pesquisa_captacao[\"email\"] = df_pesquisa_captacao[\"email\"].str.lower().str.strip()\n",
    "df_pesquisa_captacao = df_pesquisa_captacao.drop_duplicates(subset='email', keep='first')\n",
    "\n",
    "df_pesquisa_captacao.info()"
   ]
  },
  {
   "cell_type": "code",
   "execution_count": null,
   "id": "61591e29-0a0b-48e0-8e1c-a57c0410c713",
   "metadata": {
    "papermill": {
     "duration": null,
     "end_time": null,
     "exception": null,
     "start_time": null,
     "status": "pending"
    },
    "tags": []
   },
   "outputs": [],
   "source": [
    "df_pesquisa_captacao[\"renda\"] = (\n",
    "    df_pesquisa_captacao[\"renda\"]\n",
    "    .replace({\n",
    "        \"O a R$1.000\\u2028\": \"De 0 a 1.000\",\n",
    "        \"R$1.000 a R$3.000\": \"De 1.000 a 3.000\",\n",
    "        \"R$3.000 a R$5.000\\u2028\": \"De 3.000 a 5.000\",\n",
    "        \"R$5.000 a R$10.000\\u2028\": \"De 5.000 a 10.000\",\n",
    "        \"Mais de R$10.000\": \"Mais de 10.000\"\n",
    "    })\n",
    ")\n",
    "\n",
    "df_pesquisa_captacao[\"escolaridade\"] = (\n",
    "    df_pesquisa_captacao[\"escolaridade\"]\n",
    "    .replace({\n",
    "        \"Ensino superior incompleto\\u2028\": \"Ensino superior incompleto\"\n",
    "    })\n",
    ")"
   ]
  },
  {
   "cell_type": "code",
   "execution_count": null,
   "id": "2c1b4cca-71f2-489e-9792-6dcf902c194f",
   "metadata": {
    "papermill": {
     "duration": null,
     "end_time": null,
     "exception": null,
     "start_time": null,
     "status": "pending"
    },
    "tags": []
   },
   "outputs": [],
   "source": [
    "# Filtrar o DataFrame para excluir linhas onde o email contém \"teste\" ou \"x@x\"\n",
    "df_pesquisa_captacao = df_pesquisa_captacao[\n",
    "    ~df_pesquisa_captacao['email'].str.contains('teste|x@x', case=False, na=False)\n",
    "]\n",
    "\n",
    "df_pesquisa_captacao.drop(columns=['email']).head()"
   ]
  },
  {
   "cell_type": "code",
   "execution_count": null,
   "id": "13084254-6159-4743-aae9-8511486837ee",
   "metadata": {
    "papermill": {
     "duration": null,
     "end_time": null,
     "exception": null,
     "start_time": null,
     "status": "pending"
    },
    "tags": []
   },
   "outputs": [],
   "source": [
    "df_leads_trafego.info()"
   ]
  },
  {
   "cell_type": "code",
   "execution_count": null,
   "id": "1f9bfeea-e47c-4eba-bbaa-e36a224b38b1",
   "metadata": {
    "papermill": {
     "duration": null,
     "end_time": null,
     "exception": null,
     "start_time": null,
     "status": "pending"
    },
    "tags": []
   },
   "outputs": [],
   "source": [
    "df_leads_trafego.columns = df_leads_trafego.columns.str.strip().str.lower().str.replace(\" \", \"_\")\n",
    "\n",
    "# Definir colunas UTM\n",
    "colunas_utms = ['utm_source', 'utm_campaign', 'utm_medium', 'utm_content']\n",
    "\n",
    "# Função para verificar se uma célula é \"vazia de verdade\"\n",
    "def is_vazio(valor):\n",
    "    if pd.isna(valor):\n",
    "        return True\n",
    "    valor = str(valor).strip()\n",
    "    return (valor == \"\") or (valor.startswith(\"{{\") and valor.endswith(\"}}\"))\n",
    "\n",
    "# Função para verificar se TODAS UTMs estão vazias para uma linha\n",
    "def todas_utms_vazias(row):\n",
    "    return all(is_vazio(row[col]) for col in colunas_utms)\n",
    "\n",
    "# Aplicar filtro: manter linhas onde pelo menos uma UTM está preenchida de verdade\n",
    "df_leads_trafego = df_leads_trafego[\n",
    "    ~df_leads_trafego.apply(todas_utms_vazias, axis=1)\n",
    "].copy()\n",
    "\n",
    "# Remover linhas que contenham 'teste' em qualquer coluna\n",
    "df_leads_trafego = df_leads_trafego[\n",
    "    ~df_leads_trafego.apply(lambda row: row.astype(str).str.lower().str.contains('teste').any(), axis=1)\n",
    "]\n",
    "\n",
    "# Resetar índice\n",
    "df_leads_trafego = df_leads_trafego.reset_index(drop=True)\n",
    "\n",
    "df_leads_trafego.info()"
   ]
  },
  {
   "cell_type": "code",
   "execution_count": null,
   "id": "cf749012-c508-4092-a4af-b8ec037d74f4",
   "metadata": {
    "papermill": {
     "duration": null,
     "end_time": null,
     "exception": null,
     "start_time": null,
     "status": "pending"
    },
    "tags": []
   },
   "outputs": [],
   "source": [
    "df_leads_trafego.rename(columns={'e-mail': 'email'}, inplace=True)\n",
    "df_leads_trafego[\"email\"] = df_leads_trafego[\"email\"].str.lower().str.strip()\n",
    "\n",
    "df_leads_trafego['data'] = pd.to_datetime(df_leads_trafego['data'], errors='coerce')\n",
    "df_leads_trafego['data'] = df_leads_trafego['data'].dt.tz_localize(None)\n",
    "df_leads_trafego['data'] = df_leads_trafego['data'].dt.normalize()\n",
    "\n",
    "df_leads_trafego.info()"
   ]
  },
  {
   "cell_type": "code",
   "execution_count": null,
   "id": "e5bd49b4-59f5-419d-b8c9-ebe07b2159d2",
   "metadata": {
    "papermill": {
     "duration": null,
     "end_time": null,
     "exception": null,
     "start_time": null,
     "status": "pending"
    },
    "tags": []
   },
   "outputs": [],
   "source": [
    "# Criar coluna de lançamentos baseada na data\n",
    "df_leads_trafego['lancamentos'] = df_leads_trafego['data'].apply(\n",
    "    lambda x: 'SSP-L13' if x.date() >= pd.to_datetime('2025-04-30').date() else 'SSP-L12'\n",
    ")\n",
    "\n",
    "# Remover e-mails duplicados dentro de cada lançamento\n",
    "df_leads_trafego = (\n",
    "    df_leads_trafego\n",
    "    .sort_values('data')  # garante ordem cronológica\n",
    "    .drop_duplicates(subset=['email', 'lancamentos'], keep='first')\n",
    ")\n",
    "\n",
    "df_leads_trafego.info()"
   ]
  },
  {
   "cell_type": "code",
   "execution_count": null,
   "id": "9b353df1-2888-47aa-9cfa-118d5ac1c585",
   "metadata": {
    "papermill": {
     "duration": null,
     "end_time": null,
     "exception": null,
     "start_time": null,
     "status": "pending"
    },
    "tags": []
   },
   "outputs": [],
   "source": [
    "df_leads_trafego[\"lancamentos\"].value_counts()"
   ]
  },
  {
   "cell_type": "code",
   "execution_count": null,
   "id": "383c8a11-6642-4177-9862-4f22f33a8d03",
   "metadata": {
    "papermill": {
     "duration": null,
     "end_time": null,
     "exception": null,
     "start_time": null,
     "status": "pending"
    },
    "tags": []
   },
   "outputs": [],
   "source": [
    "df_leads_trafego.drop(columns=['email']).head()"
   ]
  },
  {
   "cell_type": "code",
   "execution_count": null,
   "id": "14e6c710-690e-498b-8dde-9fd8abdc86a6",
   "metadata": {
    "papermill": {
     "duration": null,
     "end_time": null,
     "exception": null,
     "start_time": null,
     "status": "pending"
    },
    "tags": []
   },
   "outputs": [],
   "source": [
    "df_compradores.rename(columns={'email contato': 'email'}, inplace=True)\n",
    "df_compradores[\"email\"] = df_compradores[\"email\"].str.lower().str.strip()\n",
    "df_compradores = df_compradores.drop_duplicates(subset='email', keep='first')\n",
    "\n",
    "df_compradores.info()"
   ]
  },
  {
   "cell_type": "code",
   "execution_count": null,
   "id": "abd96317-2a41-4f6b-b568-2a8b48c7a980",
   "metadata": {
    "papermill": {
     "duration": null,
     "end_time": null,
     "exception": null,
     "start_time": null,
     "status": "pending"
    },
    "tags": []
   },
   "outputs": [],
   "source": [
    "df_pesquisa_compradores_l12 = df_pesquisa_captacao[\n",
    "    df_pesquisa_captacao[\"email\"].isin(df_compradores[\"email\"])\n",
    "].copy()"
   ]
  },
  {
   "cell_type": "code",
   "execution_count": null,
   "id": "c5c2afde-7807-4621-8f0d-19b7f2e09b41",
   "metadata": {
    "papermill": {
     "duration": null,
     "end_time": null,
     "exception": null,
     "start_time": null,
     "status": "pending"
    },
    "tags": []
   },
   "outputs": [],
   "source": [
    "df_pesquisa_compradores_l12.info()"
   ]
  },
  {
   "cell_type": "code",
   "execution_count": null,
   "id": "1cd9ea00-7a81-44be-826e-37be2fca70d2",
   "metadata": {
    "papermill": {
     "duration": null,
     "end_time": null,
     "exception": null,
     "start_time": null,
     "status": "pending"
    },
    "tags": []
   },
   "outputs": [],
   "source": [
    "df_pesquisa_compradores_l12.drop(columns=['email']).head()"
   ]
  },
  {
   "cell_type": "code",
   "execution_count": null,
   "id": "ad13f43e-753f-43d0-88eb-cf3219691223",
   "metadata": {
    "papermill": {
     "duration": null,
     "end_time": null,
     "exception": null,
     "start_time": null,
     "status": "pending"
    },
    "tags": []
   },
   "outputs": [],
   "source": [
    "df_compradores_nao_respondentes = df_compradores[\n",
    "    ~df_compradores[\"email\"].isin(df_pesquisa_captacao[\"email\"])\n",
    "].copy()"
   ]
  },
  {
   "cell_type": "code",
   "execution_count": null,
   "id": "70028302-ab9e-43f5-929a-ff28b4728a43",
   "metadata": {
    "papermill": {
     "duration": null,
     "end_time": null,
     "exception": null,
     "start_time": null,
     "status": "pending"
    },
    "tags": []
   },
   "outputs": [],
   "source": [
    "df_compradores_nao_respondentes.info()"
   ]
  },
  {
   "cell_type": "code",
   "execution_count": null,
   "id": "8fc78948-4ff2-436c-9e73-7af4869aeedb",
   "metadata": {
    "papermill": {
     "duration": null,
     "end_time": null,
     "exception": null,
     "start_time": null,
     "status": "pending"
    },
    "tags": []
   },
   "outputs": [],
   "source": [
    "# Merge mantendo os lançamentos da pesquisa\n",
    "df_pesquisa_captacao = df_pesquisa_captacao.merge(\n",
    "    df_leads_trafego[['email'] + colunas_utms + ['lancamentos']],\n",
    "    on='email',\n",
    "    how='left'\n",
    ")\n",
    "\n",
    "df_pesquisa_compradores_l12 = df_pesquisa_compradores_l12.merge(\n",
    "    df_leads_trafego[[\"email\"] + colunas_utms + [\"lancamentos\"]],\n",
    "    on=\"email\",\n",
    "    how=\"left\"\n",
    ")"
   ]
  },
  {
   "cell_type": "code",
   "execution_count": null,
   "id": "47c6ae4c-b574-4dea-bc11-6dc5c41e50cf",
   "metadata": {
    "papermill": {
     "duration": null,
     "end_time": null,
     "exception": null,
     "start_time": null,
     "status": "pending"
    },
    "tags": []
   },
   "outputs": [],
   "source": [
    "emails_pesquisa = set(df_pesquisa_captacao['email'].unique())\n",
    "emails_trafego = set(df_leads_trafego['email'].unique())\n",
    "emails_aluno = set(df_pesquisa_compradores_l12['email'].unique())\n",
    "\n",
    "# Quantos e-mails da pesquisa não estão no tráfego?\n",
    "len(emails_pesquisa - emails_trafego)"
   ]
  },
  {
   "cell_type": "code",
   "execution_count": null,
   "id": "4626ea2c-e2c1-4c0c-ba71-31908a04b328",
   "metadata": {
    "papermill": {
     "duration": null,
     "end_time": null,
     "exception": null,
     "start_time": null,
     "status": "pending"
    },
    "tags": []
   },
   "outputs": [],
   "source": [
    "df_pesquisa_captacao.drop(columns=['email']).head()"
   ]
  },
  {
   "cell_type": "code",
   "execution_count": null,
   "id": "2435b8fc-ba14-4e54-9a83-46dafaf0e68f",
   "metadata": {
    "papermill": {
     "duration": null,
     "end_time": null,
     "exception": null,
     "start_time": null,
     "status": "pending"
    },
    "tags": []
   },
   "outputs": [],
   "source": [
    "df_pesquisa_compradores_l12.drop(columns=['email']).head()"
   ]
  },
  {
   "cell_type": "code",
   "execution_count": null,
   "id": "4da1759d-acce-4cf0-9654-4d6ce574298a",
   "metadata": {
    "papermill": {
     "duration": null,
     "end_time": null,
     "exception": null,
     "start_time": null,
     "status": "pending"
    },
    "tags": []
   },
   "outputs": [],
   "source": [
    "df_pesquisa_captacao.info()"
   ]
  },
  {
   "cell_type": "code",
   "execution_count": null,
   "id": "c33c9a95-07fc-41a2-8829-b444625a0715",
   "metadata": {
    "papermill": {
     "duration": null,
     "end_time": null,
     "exception": null,
     "start_time": null,
     "status": "pending"
    },
    "tags": []
   },
   "outputs": [],
   "source": [
    "# Contar quantas linhas têm todas as UTMs como NaN\n",
    "qtd_todas_utms_nan = df_pesquisa_compradores_l12[colunas_utms].isna().all(axis=1).sum()\n",
    "\n",
    "print(f\"Quantidade de linhas com TODAS as UTMs NaN: {qtd_todas_utms_nan}\")"
   ]
  },
  {
   "cell_type": "code",
   "execution_count": null,
   "id": "f4eb1137-f54f-4ad7-84dd-b140fe517daa",
   "metadata": {
    "papermill": {
     "duration": null,
     "end_time": null,
     "exception": null,
     "start_time": null,
     "status": "pending"
    },
    "tags": []
   },
   "outputs": [],
   "source": [
    "\"\"\"\n",
    "model = SentenceTransformer(\"all-MiniLM-L6-v2\")\n",
    "\n",
    "# Mapas distintos por coluna\n",
    "mapeamentos = {\n",
    "    'problema_aprender': mapeamento_problema_aprender,\n",
    "    'profissao': mapeamento_profissoes,\n",
    "    'fala_outro_idioma': mapeamento_outros_idiomas,\n",
    "    'motivo_fluencia_espanhol': mapeamento_motivo_fluencia,\n",
    "    'escolaridade': mapeamento_escolaridade\n",
    "}\n",
    "\n",
    "for coluna, mapeamento in mapeamentos.items():\n",
    "    nome_coluna_categoria = f\"{coluna}_categoria\"\n",
    "\n",
    "    # Expandir mapeamento para esta coluna\n",
    "    mapeamento_expandido, mapeamento_embeddings = preparar_para_categoria(mapeamento, model)\n",
    "\n",
    "    # Categorização com o mapeamento certo\n",
    "    df_pesquisa_captacao_lancamentos.loc[:, nome_coluna_categoria] = categorizar_coluna_batch(\n",
    "        df_pesquisa_captacao_lancamentos[coluna],\n",
    "        mapeamento_expandido,\n",
    "        mapeamento_embeddings,\n",
    "        model,\n",
    "        threshold=0.6,\n",
    "        desc=coluna\n",
    "    )\n",
    "\"\"\""
   ]
  },
  {
   "cell_type": "code",
   "execution_count": null,
   "id": "d6422832-321b-437a-a953-a26b6764c6a8",
   "metadata": {
    "papermill": {
     "duration": null,
     "end_time": null,
     "exception": null,
     "start_time": null,
     "status": "pending"
    },
    "tags": []
   },
   "outputs": [],
   "source": [
    "\"\"\"# Exibir strings completas\n",
    "pd.set_option(\"display.max_colwidth\", None)\n",
    "\n",
    "# Colunas categorizadas e respectivas colunas originais\n",
    "categorias = {\n",
    "    \"problema_aprender\": \"problema_aprender_categoria\",\n",
    "    \"profissao\": \"profissao_categoria\",\n",
    "    \"fala_outro_idioma\": \"fala_outro_idioma_categoria\",\n",
    "    \"motivo_fluencia_espanhol\": \"motivo_fluencia_espanhol_categoria\",\n",
    "    \"escolaridade\": \"escolaridade_categoria\"\n",
    "}\n",
    "\n",
    "# Categorias problemáticas\n",
    "categorias_problema = [\"Outros\"]\n",
    "\n",
    "# Loop para filtrar e exibir como DataFrame formatado\n",
    "for original_col, categoria_col in categorias.items():\n",
    "    for problema in categorias_problema:\n",
    "        print(f\"\\n=== Valores de '{original_col}' categorizados como '{problema}' ===\")\n",
    "\n",
    "        filtro = df_pesquisa_captacao_lancamentos[categoria_col] == problema\n",
    "        valores = df_pesquisa_captacao_lancamentos.loc[filtro, original_col].value_counts()\n",
    "\n",
    "        # Envolver cada valor com aspas\n",
    "        valores.index = [f'\"{val}\"' for val in valores.index]\n",
    "\n",
    "        # Converter para DataFrame para visualização completa\n",
    "        valores_df = valores.reset_index().head(300)\n",
    "        valores_df.columns = ['valor_original', 'frequencia']\n",
    "\n",
    "        # Exibir o resultado completo\n",
    "        print(valores_df.to_string(index=False))\n",
    "\"\"\""
   ]
  },
  {
   "cell_type": "code",
   "execution_count": null,
   "id": "27cd9eb8-e480-4fdf-9f90-63ec48ca35ae",
   "metadata": {
    "papermill": {
     "duration": null,
     "end_time": null,
     "exception": null,
     "start_time": null,
     "status": "pending"
    },
    "tags": []
   },
   "outputs": [],
   "source": [
    "\"\"\"df_pesquisa_captacao_lancamentos = df_pesquisa_captacao_lancamentos.drop([\n",
    "    'profissao',\n",
    "    'fala_outro_idioma',\n",
    "    'motivo_fluencia_espanhol',\n",
    "    'escolaridade',\n",
    "    'problema_aprender'\n",
    "], axis=1, errors='ignore')\n",
    "\"\"\""
   ]
  },
  {
   "cell_type": "code",
   "execution_count": null,
   "id": "52f80fe0-c32a-4e8f-9a8c-4eb9c2e6cc97",
   "metadata": {
    "papermill": {
     "duration": null,
     "end_time": null,
     "exception": null,
     "start_time": null,
     "status": "pending"
    },
    "tags": []
   },
   "outputs": [],
   "source": [
    "from gspread_dataframe import set_with_dataframe\n",
    "from datetime import datetime\n",
    "\n",
    "# Carrega as variáveis de ambiente\n",
    "load_dotenv()\n",
    "\n",
    "# Pega o caminho de forma segura\n",
    "credenciais_path = os.getenv(\"GOOGLE_CREDENTIALS_PATH\")\n",
    "\n",
    "# === Escopos de acesso ===\n",
    "scopes = [\n",
    "    \"https://www.googleapis.com/auth/spreadsheets\",\n",
    "    \"https://www.googleapis.com/auth/drive\"\n",
    "]\n",
    "\n",
    "# === Autenticar ===\n",
    "creds = service_account.Credentials.from_service_account_file(\n",
    "    credenciais_path,\n",
    "    scopes=scopes\n",
    ")\n",
    "client = gspread.authorize(creds)\n",
    "\n",
    "# === Função para criar nova planilha e carregar dados ===\n",
    "def criar_planilha_e_enviar(df, nome_base):\n",
    "    nome_final = nome_base\n",
    "    \n",
    "    # Cria nova planilha\n",
    "    planilha = client.create(nome_final)\n",
    "    \n",
    "    # Compartilha com seu e-mail pessoal (aqui você coloca o seu)\n",
    "    planilha.share('camilobf2@gmail.com', perm_type='user', role='writer')  # <<< Trocar pelo seu email do Gmail\n",
    "\n",
    "    # Preenche a primeira aba\n",
    "    aba = planilha.sheet1\n",
    "    aba.update_title(\"Dados\")\n",
    "    set_with_dataframe(aba, df)\n",
    "    \n",
    "    print(f\"✅ Nova planilha criada: {nome_final}\")\n",
    "    print(f\"🔗 Link: https://docs.google.com/spreadsheets/d/{planilha.id}/edit\")\n",
    "\n",
    "# === Geração dos arquivos ===\n",
    "#criar_planilha_e_enviar(df_pesquisa_captacao, \"pesquisa_captacao\")\n",
    "#criar_planilha_e_enviar(df_pesquisa_compradores_l12, \"pesquisa_aluno\")\n",
    "#criar_planilha_e_enviar(df_leads_invest_trafego, \"invest_trafego\")"
   ]
  },
  {
   "cell_type": "code",
   "execution_count": null,
   "id": "26e67459-06bd-4cf3-b9cc-9c45bc4e150b",
   "metadata": {
    "papermill": {
     "duration": null,
     "end_time": null,
     "exception": null,
     "start_time": null,
     "status": "pending"
    },
    "tags": []
   },
   "outputs": [],
   "source": [
    "# === Função para atualizar uma planilha existente ===\n",
    "def atualizar_planilha_existente(df: pd.DataFrame, sheet_id: str, aba_nome: str = \"Dados\"):\n",
    "    \"\"\"\n",
    "    Atualiza uma aba específica de uma planilha no Google Sheets.\n",
    "    \n",
    "    - df: DataFrame com os dados que serão enviados\n",
    "    - sheet_id: ID da planilha (o que vem na URL depois de \"/d/\")\n",
    "    - aba_nome: Nome da aba que será atualizada (default: 'Dados')\n",
    "    \"\"\"\n",
    "    try:\n",
    "        planilha = client.open_by_key(sheet_id)\n",
    "        try:\n",
    "            aba = planilha.worksheet(aba_nome)\n",
    "        except gspread.WorksheetNotFound:\n",
    "            aba = planilha.add_worksheet(title=aba_nome, rows=\"1000\", cols=\"20\")\n",
    "        \n",
    "        aba.clear()  # Limpa dados antigos\n",
    "        set_with_dataframe(aba, df)\n",
    "        \n",
    "        print(f\"✅ Planilha atualizada: https://docs.google.com/spreadsheets/d/{sheet_id}/edit\")\n",
    "    except Exception as e:\n",
    "        print(f\"❌ Erro ao atualizar a planilha: {e}\")\n",
    "\n",
    "# === IDs das planilhas (FIXOS, preencha certinho aqui) ===\n",
    "id_pesquisa_captacao = \"1ukLwu8SoP0U3uirB6w1Ca3TPEITY50c558xNUUN3kj4\"\n",
    "id_pesquisa_aluno = \"1GDCAa1fiflDIBnRY9rrdY9ghKwS6DPzxIG9FYGZEsQU\"\n",
    "\n",
    "\n",
    "# === Atualizar todas as planilhas ===\n",
    "atualizar_planilha_existente(df_pesquisa_captacao, id_pesquisa_captacao)\n",
    "atualizar_planilha_existente(df_pesquisa_compradores_l12, id_pesquisa_aluno)"
   ]
  },
  {
   "cell_type": "code",
   "execution_count": null,
   "id": "233e74a5-34fc-49da-afcb-d0355f2441d8",
   "metadata": {
    "papermill": {
     "duration": null,
     "end_time": null,
     "exception": null,
     "start_time": null,
     "status": "pending"
    },
    "tags": []
   },
   "outputs": [],
   "source": [
    "from datetime import datetime\n",
    "import pytz\n",
    "\n",
    "fuso_brasil = pytz.timezone(\"America/Sao_Paulo\")\n",
    "agora_brasil = datetime.now(fuso_brasil)\n",
    "\n",
    "with open(\"ultima_atualizacao.txt\", \"w\") as f:\n",
    "    f.write(agora_brasil.strftime(\"%Y-%m-%d %H:%M:%S\"))"
   ]
  },
  {
   "cell_type": "code",
   "execution_count": null,
   "id": "60f1aa28-a680-4445-b549-de028d15f826",
   "metadata": {
    "papermill": {
     "duration": null,
     "end_time": null,
     "exception": null,
     "start_time": null,
     "status": "pending"
    },
    "tags": []
   },
   "outputs": [],
   "source": [
    "try:\n",
    "    with open(\"ultima_atualizacao.txt\", \"r\") as f:\n",
    "        texto = f.read()\n",
    "        data_atualizacao = datetime.strptime(texto, \"%Y-%m-%d %H:%M:%S\")\n",
    "        data_atualizacao_formatada = data_atualizacao.strftime(\"%d/%m/%Y %H:%M\")\n",
    "except Exception:\n",
    "    data_atualizacao_formatada = \"Desconhecida\""
   ]
  },
  {
   "cell_type": "code",
   "execution_count": null,
   "id": "1d66e363-1e08-4e6c-8c5b-ad881de22f32",
   "metadata": {
    "papermill": {
     "duration": null,
     "end_time": null,
     "exception": null,
     "start_time": null,
     "status": "pending"
    },
    "tags": []
   },
   "outputs": [],
   "source": [
    "f\"**Última atualização:** {data_atualizacao_formatada}\""
   ]
  },
  {
   "cell_type": "code",
   "execution_count": null,
   "id": "31ee6dba-29ce-42ba-8986-8a7c95310288",
   "metadata": {
    "papermill": {
     "duration": null,
     "end_time": null,
     "exception": null,
     "start_time": null,
     "status": "pending"
    },
    "tags": []
   },
   "outputs": [],
   "source": [
    "colunas_excluir = [\"data\", \"email\"]\n",
    "\n",
    "for coluna in df_pesquisa_captacao.columns:\n",
    "    if coluna not in colunas_excluir:\n",
    "        print(f\"\\nColuna: {coluna}\")\n",
    "        print(df_pesquisa_captacao[coluna].value_counts(dropna=False))"
   ]
  },
  {
   "cell_type": "code",
   "execution_count": null,
   "id": "a914074e-8189-4d71-be59-86a91eeaaa70",
   "metadata": {
    "papermill": {
     "duration": null,
     "end_time": null,
     "exception": null,
     "start_time": null,
     "status": "pending"
    },
    "tags": []
   },
   "outputs": [],
   "source": [
    "colunas_excluir = [\"data\", \"email\"]\n",
    "\n",
    "for coluna in df_pesquisa_compradores_l12.columns:\n",
    "    if coluna not in colunas_excluir:\n",
    "        print(f\"\\nColuna: {coluna}\")\n",
    "        print(df_pesquisa_compradores_l12[coluna].value_counts(dropna=False))"
   ]
  }
 ],
 "metadata": {
  "kernelspec": {
   "display_name": "Python (ambiente_controlado)",
   "language": "python",
   "name": "ambiente_controlado"
  },
  "language_info": {
   "codemirror_mode": {
    "name": "ipython",
    "version": 3
   },
   "file_extension": ".py",
   "mimetype": "text/x-python",
   "name": "python",
   "nbconvert_exporter": "python",
   "pygments_lexer": "ipython3",
   "version": "3.12.3"
  },
  "papermill": {
   "default_parameters": {},
   "duration": 12.164188,
   "end_time": "2025-05-14T17:00:23.753406",
   "environment_variables": {},
   "exception": true,
   "input_path": "C:\\Users\\Camilo_Bica\\data_science\\consultoria\\acelerador_petrobras\\notebooks\\tratamento_dados.ipynb",
   "output_path": "C:\\Users\\Camilo_Bica\\data_science\\consultoria\\acelerador_petrobras\\notebooks\\tratamento_dados_output.ipynb",
   "parameters": {},
   "start_time": "2025-05-14T17:00:11.589218",
   "version": "2.6.0"
  }
 },
 "nbformat": 4,
 "nbformat_minor": 5
}