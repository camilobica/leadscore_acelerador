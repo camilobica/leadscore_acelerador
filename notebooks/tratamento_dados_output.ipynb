{
 "cells": [
  {
   "cell_type": "code",
   "execution_count": 1,
   "id": "55b5aa7e-8f51-4526-9db0-9556b0f3a784",
   "metadata": {
    "execution": {
     "iopub.execute_input": "2025-05-09T09:44:15.942507Z",
     "iopub.status.busy": "2025-05-09T09:44:15.940692Z",
     "iopub.status.idle": "2025-05-09T09:44:40.526144Z",
     "shell.execute_reply": "2025-05-09T09:44:40.526144Z"
    },
    "papermill": {
     "duration": 24.601286,
     "end_time": "2025-05-09T09:44:40.527675",
     "exception": false,
     "start_time": "2025-05-09T09:44:15.926389",
     "status": "completed"
    },
    "tags": []
   },
   "outputs": [],
   "source": [
    "import gspread\n",
    "import pandas as pd\n",
    "import os\n",
    "import numpy as np\n",
    "\n",
    "from dotenv import load_dotenv\n",
    "from google.oauth2 import service_account\n",
    "\n",
    "# === Carregar variáveis de ambiente ===\n",
    "load_dotenv()\n",
    "\n",
    "# === Definir escopos de acesso ===\n",
    "scopes = [\n",
    "    \"https://www.googleapis.com/auth/spreadsheets.readonly\",\n",
    "    \"https://www.googleapis.com/auth/drive.readonly\"\n",
    "]\n",
    "\n",
    "# === Caminho seguro para o arquivo JSON (lido do .env) ===\n",
    "cred_path = os.getenv('GOOGLE_CREDENTIALS_PATH')\n",
    "\n",
    "# === Carregar credenciais de forma moderna ===\n",
    "creds = service_account.Credentials.from_service_account_file(\n",
    "    cred_path,\n",
    "    scopes=scopes\n",
    ")\n",
    "\n",
    "# === Autorizar o cliente gspread ===\n",
    "client = gspread.authorize(creds)\n",
    "\n",
    "# === Função para carregar aba da planilha ===\n",
    "def carregar_aba(sheet_id, aba_nome):\n",
    "    planilha = client.open_by_key(sheet_id)\n",
    "    aba = planilha.worksheet(aba_nome)\n",
    "    dados = aba.get_all_records()\n",
    "    return pd.DataFrame(dados)\n",
    "\n",
    "# === IDs das planilhas (fixar no .env depois se quiser) ===\n",
    "id_dados_leads_ssp = \"1K7nLxfgu6ktdyFwlHMPJsj5xdv410tensfPccmmPDm8\"\n",
    "id_pesquisa_ssp = \"1pK0BP8n98DtQ8OwGeBhzcGgxQinFqZhZsQTk7_cYZIk\"\n",
    "id_compradores_ssp = \"1A3D8JNPlZNpxkwcXQ_7CxalNEZyLo8KmJP6Sa_A-3NU\"\n",
    "\n",
    "# === Carregar DataFrames ===\n",
    "df_leads_trafego = carregar_aba(id_dados_leads_ssp, \"Página1\")\n",
    "df_pesquisa_captacao = carregar_aba(id_pesquisa_ssp, \"Página1\")\n",
    "df_compradores = carregar_aba(id_compradores_ssp, \"Compradores\")"
   ]
  },
  {
   "cell_type": "code",
   "execution_count": 2,
   "id": "e9fac78a-97eb-4dea-b5a8-1d3952063b0e",
   "metadata": {
    "execution": {
     "iopub.execute_input": "2025-05-09T09:44:40.560061Z",
     "iopub.status.busy": "2025-05-09T09:44:40.560061Z",
     "iopub.status.idle": "2025-05-09T09:44:40.785171Z",
     "shell.execute_reply": "2025-05-09T09:44:40.785171Z"
    },
    "papermill": {
     "duration": 0.24153,
     "end_time": "2025-05-09T09:44:40.785171",
     "exception": false,
     "start_time": "2025-05-09T09:44:40.543641",
     "status": "completed"
    },
    "tags": []
   },
   "outputs": [
    {
     "name": "stdout",
     "output_type": "stream",
     "text": [
      "<class 'pandas.core.frame.DataFrame'>\n",
      "Index: 41704 entries, 0 to 43185\n",
      "Data columns (total 9 columns):\n",
      " #   Column                 Non-Null Count  Dtype         \n",
      "---  ------                 --------------  -----         \n",
      " 0   data                   41704 non-null  datetime64[ns]\n",
      " 1   email                  41704 non-null  object        \n",
      " 2   idade                  41704 non-null  object        \n",
      " 3   nível                  41704 non-null  object        \n",
      " 4   situação profissional  41704 non-null  object        \n",
      " 5   renda                  41704 non-null  object        \n",
      " 6   escolaridade           41704 non-null  object        \n",
      " 7   duvida                 41704 non-null  object        \n",
      " 8   dificuldade            41704 non-null  object        \n",
      "dtypes: datetime64[ns](1), object(8)\n",
      "memory usage: 3.2+ MB\n"
     ]
    }
   ],
   "source": [
    "df_pesquisa_captacao = df_pesquisa_captacao.drop([\"Funil\"], axis=1, errors='ignore')\n",
    "df_pesquisa_captacao.rename(columns={'E-mail': 'email'}, inplace=True)\n",
    "df_pesquisa_captacao.columns = df_pesquisa_captacao.columns.str.lower()\n",
    "\n",
    "df_pesquisa_captacao['data'] = pd.to_datetime(df_pesquisa_captacao['data'], errors='coerce')\n",
    "df_pesquisa_captacao['data'] = df_pesquisa_captacao['data'].dt.tz_localize(None)\n",
    "df_pesquisa_captacao['data'] = df_pesquisa_captacao['data'].dt.normalize()\n",
    "\n",
    "df_pesquisa_captacao[\"email\"] = df_pesquisa_captacao[\"email\"].str.lower().str.strip()\n",
    "df_pesquisa_captacao = df_pesquisa_captacao.drop_duplicates(subset='email', keep='first')\n",
    "\n",
    "df_pesquisa_captacao.info()"
   ]
  },
  {
   "cell_type": "code",
   "execution_count": 3,
   "id": "61591e29-0a0b-48e0-8e1c-a57c0410c713",
   "metadata": {
    "execution": {
     "iopub.execute_input": "2025-05-09T09:44:40.795648Z",
     "iopub.status.busy": "2025-05-09T09:44:40.795648Z",
     "iopub.status.idle": "2025-05-09T09:44:40.864960Z",
     "shell.execute_reply": "2025-05-09T09:44:40.864960Z"
    },
    "papermill": {
     "duration": 0.071333,
     "end_time": "2025-05-09T09:44:40.866981",
     "exception": false,
     "start_time": "2025-05-09T09:44:40.795648",
     "status": "completed"
    },
    "tags": []
   },
   "outputs": [],
   "source": [
    "df_pesquisa_captacao[\"renda\"] = (\n",
    "    df_pesquisa_captacao[\"renda\"]\n",
    "    .replace({\n",
    "        \"O a R$1.000\\u2028\": \"De 0 a 1.000\",\n",
    "        \"R$1.000 a R$3.000\": \"De 1.000 a 3.000\",\n",
    "        \"R$3.000 a R$5.000\\u2028\": \"De 3.000 a 5.000\",\n",
    "        \"R$5.000 a R$10.000\\u2028\": \"De 5.000 a 10.000\",\n",
    "        \"Mais de R$10.000\": \"Mais de 10.000\"\n",
    "    })\n",
    ")\n",
    "\n",
    "df_pesquisa_captacao[\"escolaridade\"] = (\n",
    "    df_pesquisa_captacao[\"escolaridade\"]\n",
    "    .replace({\n",
    "        \"Ensino superior incompleto\\u2028\": \"Ensino superior incompleto\"\n",
    "    })\n",
    ")"
   ]
  },
  {
   "cell_type": "code",
   "execution_count": 4,
   "id": "2c1b4cca-71f2-489e-9792-6dcf902c194f",
   "metadata": {
    "execution": {
     "iopub.execute_input": "2025-05-09T09:44:40.870676Z",
     "iopub.status.busy": "2025-05-09T09:44:40.870676Z",
     "iopub.status.idle": "2025-05-09T09:44:41.004745Z",
     "shell.execute_reply": "2025-05-09T09:44:41.004745Z"
    },
    "papermill": {
     "duration": 0.134069,
     "end_time": "2025-05-09T09:44:41.004745",
     "exception": false,
     "start_time": "2025-05-09T09:44:40.870676",
     "status": "completed"
    },
    "tags": []
   },
   "outputs": [
    {
     "data": {
      "text/html": [
       "<div>\n",
       "<style scoped>\n",
       "    .dataframe tbody tr th:only-of-type {\n",
       "        vertical-align: middle;\n",
       "    }\n",
       "\n",
       "    .dataframe tbody tr th {\n",
       "        vertical-align: top;\n",
       "    }\n",
       "\n",
       "    .dataframe thead th {\n",
       "        text-align: right;\n",
       "    }\n",
       "</style>\n",
       "<table border=\"1\" class=\"dataframe\">\n",
       "  <thead>\n",
       "    <tr style=\"text-align: right;\">\n",
       "      <th></th>\n",
       "      <th>data</th>\n",
       "      <th>idade</th>\n",
       "      <th>nível</th>\n",
       "      <th>situação profissional</th>\n",
       "      <th>renda</th>\n",
       "      <th>escolaridade</th>\n",
       "      <th>duvida</th>\n",
       "      <th>dificuldade</th>\n",
       "    </tr>\n",
       "  </thead>\n",
       "  <tbody>\n",
       "    <tr>\n",
       "      <th>2</th>\n",
       "      <td>2025-04-07</td>\n",
       "      <td>33-37</td>\n",
       "      <td>Técnica</td>\n",
       "      <td>Autônomo</td>\n",
       "      <td>De 1.000 a 3.000</td>\n",
       "      <td>Ensino médio completo</td>\n",
       "      <td>O que preciso pra ser aprovado</td>\n",
       "      <td>Tempo</td>\n",
       "    </tr>\n",
       "    <tr>\n",
       "      <th>3</th>\n",
       "      <td>2025-04-07</td>\n",
       "      <td>23-27</td>\n",
       "      <td>Técnica</td>\n",
       "      <td>Desempregado(a)</td>\n",
       "      <td>Estou desempregado(a)</td>\n",
       "      <td>Ensino superior incompleto</td>\n",
       "      <td>.</td>\n",
       "      <td>Separa material</td>\n",
       "    </tr>\n",
       "    <tr>\n",
       "      <th>4</th>\n",
       "      <td>2025-04-07</td>\n",
       "      <td>18-22</td>\n",
       "      <td>Superior</td>\n",
       "      <td>Desempregado(a)</td>\n",
       "      <td>Estou desempregado(a)</td>\n",
       "      <td>Ensino médio completo</td>\n",
       "      <td>O quão difícil é conseguir passar</td>\n",
       "      <td>Nenhuma</td>\n",
       "    </tr>\n",
       "    <tr>\n",
       "      <th>5</th>\n",
       "      <td>2025-04-07</td>\n",
       "      <td>28-32</td>\n",
       "      <td>Técnica</td>\n",
       "      <td>Desempregado(a)</td>\n",
       "      <td>Estou desempregado(a)</td>\n",
       "      <td>Nível técnico completo</td>\n",
       "      <td>Em qual lugar do Brasil pode fazer o concurso?</td>\n",
       "      <td>Tempo</td>\n",
       "    </tr>\n",
       "    <tr>\n",
       "      <th>6</th>\n",
       "      <td>2025-04-07</td>\n",
       "      <td>18-22</td>\n",
       "      <td>Técnica</td>\n",
       "      <td>Autônomo</td>\n",
       "      <td>Estou desempregado(a)</td>\n",
       "      <td>Ensino médio completo</td>\n",
       "      <td>Se precisa de ensino superior</td>\n",
       "      <td>Nenhuma</td>\n",
       "    </tr>\n",
       "  </tbody>\n",
       "</table>\n",
       "</div>"
      ],
      "text/plain": [
       "        data  idade     nível situação profissional                  renda  \\\n",
       "2 2025-04-07  33-37   Técnica              Autônomo       De 1.000 a 3.000   \n",
       "3 2025-04-07  23-27   Técnica       Desempregado(a)  Estou desempregado(a)   \n",
       "4 2025-04-07  18-22  Superior       Desempregado(a)  Estou desempregado(a)   \n",
       "5 2025-04-07  28-32   Técnica       Desempregado(a)  Estou desempregado(a)   \n",
       "6 2025-04-07  18-22   Técnica              Autônomo  Estou desempregado(a)   \n",
       "\n",
       "                 escolaridade                                          duvida  \\\n",
       "2       Ensino médio completo                  O que preciso pra ser aprovado   \n",
       "3  Ensino superior incompleto                                               .   \n",
       "4       Ensino médio completo               O quão difícil é conseguir passar   \n",
       "5      Nível técnico completo  Em qual lugar do Brasil pode fazer o concurso?   \n",
       "6       Ensino médio completo                  Se precisa de ensino superior    \n",
       "\n",
       "        dificuldade  \n",
       "2             Tempo  \n",
       "3  Separa material   \n",
       "4          Nenhuma   \n",
       "5             Tempo  \n",
       "6           Nenhuma  "
      ]
     },
     "execution_count": 4,
     "metadata": {},
     "output_type": "execute_result"
    }
   ],
   "source": [
    "# Filtrar o DataFrame para excluir linhas onde o email contém \"teste\" ou \"x@x\"\n",
    "df_pesquisa_captacao = df_pesquisa_captacao[\n",
    "    ~df_pesquisa_captacao['email'].str.contains('teste|x@x', case=False, na=False)\n",
    "]\n",
    "\n",
    "df_pesquisa_captacao.drop(columns=['email']).head()"
   ]
  },
  {
   "cell_type": "code",
   "execution_count": 5,
   "id": "13084254-6159-4743-aae9-8511486837ee",
   "metadata": {
    "execution": {
     "iopub.execute_input": "2025-05-09T09:44:41.021017Z",
     "iopub.status.busy": "2025-05-09T09:44:41.021017Z",
     "iopub.status.idle": "2025-05-09T09:44:41.076048Z",
     "shell.execute_reply": "2025-05-09T09:44:41.076048Z"
    },
    "papermill": {
     "duration": 0.067788,
     "end_time": "2025-05-09T09:44:41.076048",
     "exception": false,
     "start_time": "2025-05-09T09:44:41.008260",
     "status": "completed"
    },
    "tags": []
   },
   "outputs": [
    {
     "name": "stdout",
     "output_type": "stream",
     "text": [
      "<class 'pandas.core.frame.DataFrame'>\n",
      "RangeIndex: 65533 entries, 0 to 65532\n",
      "Data columns (total 8 columns):\n",
      " #   Column        Non-Null Count  Dtype \n",
      "---  ------        --------------  ----- \n",
      " 0   Data          65533 non-null  object\n",
      " 1   Nome          65533 non-null  object\n",
      " 2   E-mail        65533 non-null  object\n",
      " 3   UTM Source    65533 non-null  object\n",
      " 4   UTM Campaign  65533 non-null  object\n",
      " 5   UTM Medium    65533 non-null  object\n",
      " 6   UTM Content   65533 non-null  object\n",
      " 7   Tag           65533 non-null  object\n",
      "dtypes: object(8)\n",
      "memory usage: 4.0+ MB\n"
     ]
    }
   ],
   "source": [
    "df_leads_trafego.info()"
   ]
  },
  {
   "cell_type": "code",
   "execution_count": 6,
   "id": "1f9bfeea-e47c-4eba-bbaa-e36a224b38b1",
   "metadata": {
    "execution": {
     "iopub.execute_input": "2025-05-09T09:44:41.094796Z",
     "iopub.status.busy": "2025-05-09T09:44:41.087113Z",
     "iopub.status.idle": "2025-05-09T09:45:08.662905Z",
     "shell.execute_reply": "2025-05-09T09:45:08.662905Z"
    },
    "papermill": {
     "duration": 27.586857,
     "end_time": "2025-05-09T09:45:08.662905",
     "exception": false,
     "start_time": "2025-05-09T09:44:41.076048",
     "status": "completed"
    },
    "tags": []
   },
   "outputs": [
    {
     "name": "stdout",
     "output_type": "stream",
     "text": [
      "<class 'pandas.core.frame.DataFrame'>\n",
      "RangeIndex: 46035 entries, 0 to 46034\n",
      "Data columns (total 8 columns):\n",
      " #   Column        Non-Null Count  Dtype \n",
      "---  ------        --------------  ----- \n",
      " 0   data          46035 non-null  object\n",
      " 1   nome          46035 non-null  object\n",
      " 2   e-mail        46035 non-null  object\n",
      " 3   utm_source    46035 non-null  object\n",
      " 4   utm_campaign  46035 non-null  object\n",
      " 5   utm_medium    46035 non-null  object\n",
      " 6   utm_content   46035 non-null  object\n",
      " 7   tag           46035 non-null  object\n",
      "dtypes: object(8)\n",
      "memory usage: 2.8+ MB\n"
     ]
    }
   ],
   "source": [
    "df_leads_trafego.columns = df_leads_trafego.columns.str.strip().str.lower().str.replace(\" \", \"_\")\n",
    "\n",
    "# Definir colunas UTM\n",
    "colunas_utms = ['utm_source', 'utm_campaign', 'utm_medium', 'utm_content']\n",
    "\n",
    "# Função para verificar se uma célula é \"vazia de verdade\"\n",
    "def is_vazio(valor):\n",
    "    if pd.isna(valor):\n",
    "        return True\n",
    "    valor = str(valor).strip()\n",
    "    return (valor == \"\") or (valor.startswith(\"{{\") and valor.endswith(\"}}\"))\n",
    "\n",
    "# Função para verificar se TODAS UTMs estão vazias para uma linha\n",
    "def todas_utms_vazias(row):\n",
    "    return all(is_vazio(row[col]) for col in colunas_utms)\n",
    "\n",
    "# Aplicar filtro: manter linhas onde pelo menos uma UTM está preenchida de verdade\n",
    "df_leads_trafego = df_leads_trafego[\n",
    "    ~df_leads_trafego.apply(todas_utms_vazias, axis=1)\n",
    "].copy()\n",
    "\n",
    "# Remover linhas que contenham 'teste' em qualquer coluna\n",
    "df_leads_trafego = df_leads_trafego[\n",
    "    ~df_leads_trafego.apply(lambda row: row.astype(str).str.lower().str.contains('teste').any(), axis=1)\n",
    "]\n",
    "\n",
    "# Resetar índice\n",
    "df_leads_trafego = df_leads_trafego.reset_index(drop=True)\n",
    "\n",
    "df_leads_trafego.info()"
   ]
  },
  {
   "cell_type": "code",
   "execution_count": 7,
   "id": "cf749012-c508-4092-a4af-b8ec037d74f4",
   "metadata": {
    "execution": {
     "iopub.execute_input": "2025-05-09T09:45:08.685227Z",
     "iopub.status.busy": "2025-05-09T09:45:08.685227Z",
     "iopub.status.idle": "2025-05-09T09:45:08.766191Z",
     "shell.execute_reply": "2025-05-09T09:45:08.766191Z"
    },
    "papermill": {
     "duration": 0.097777,
     "end_time": "2025-05-09T09:45:08.768559",
     "exception": false,
     "start_time": "2025-05-09T09:45:08.670782",
     "status": "completed"
    },
    "tags": []
   },
   "outputs": [
    {
     "name": "stdout",
     "output_type": "stream",
     "text": [
      "<class 'pandas.core.frame.DataFrame'>\n",
      "RangeIndex: 46035 entries, 0 to 46034\n",
      "Data columns (total 8 columns):\n",
      " #   Column        Non-Null Count  Dtype         \n",
      "---  ------        --------------  -----         \n",
      " 0   data          46035 non-null  datetime64[ns]\n",
      " 1   nome          46035 non-null  object        \n",
      " 2   email         46035 non-null  object        \n",
      " 3   utm_source    46035 non-null  object        \n",
      " 4   utm_campaign  46035 non-null  object        \n",
      " 5   utm_medium    46035 non-null  object        \n",
      " 6   utm_content   46035 non-null  object        \n",
      " 7   tag           46035 non-null  object        \n",
      "dtypes: datetime64[ns](1), object(7)\n",
      "memory usage: 2.8+ MB\n"
     ]
    },
    {
     "name": "stderr",
     "output_type": "stream",
     "text": [
      "C:\\Users\\Camilo_Bica\\AppData\\Local\\Temp\\ipykernel_18108\\1702501422.py:4: UserWarning: Parsing dates in %d/%m/%Y format when dayfirst=False (the default) was specified. Pass `dayfirst=True` or specify a format to silence this warning.\n",
      "  df_leads_trafego['data'] = pd.to_datetime(df_leads_trafego['data'], errors='coerce')\n"
     ]
    }
   ],
   "source": [
    "df_leads_trafego.rename(columns={'e-mail': 'email'}, inplace=True)\n",
    "df_leads_trafego[\"email\"] = df_leads_trafego[\"email\"].str.lower().str.strip()\n",
    "\n",
    "df_leads_trafego['data'] = pd.to_datetime(df_leads_trafego['data'], errors='coerce')\n",
    "df_leads_trafego['data'] = df_leads_trafego['data'].dt.tz_localize(None)\n",
    "df_leads_trafego['data'] = df_leads_trafego['data'].dt.normalize()\n",
    "\n",
    "df_leads_trafego.info()"
   ]
  },
  {
   "cell_type": "code",
   "execution_count": 8,
   "id": "e5bd49b4-59f5-419d-b8c9-ebe07b2159d2",
   "metadata": {
    "execution": {
     "iopub.execute_input": "2025-05-09T09:45:08.778290Z",
     "iopub.status.busy": "2025-05-09T09:45:08.778290Z",
     "iopub.status.idle": "2025-05-09T09:45:32.887600Z",
     "shell.execute_reply": "2025-05-09T09:45:32.887600Z"
    },
    "papermill": {
     "duration": 24.117355,
     "end_time": "2025-05-09T09:45:32.887600",
     "exception": false,
     "start_time": "2025-05-09T09:45:08.770245",
     "status": "completed"
    },
    "tags": []
   },
   "outputs": [
    {
     "name": "stdout",
     "output_type": "stream",
     "text": [
      "<class 'pandas.core.frame.DataFrame'>\n",
      "Index: 45939 entries, 0 to 46034\n",
      "Data columns (total 9 columns):\n",
      " #   Column        Non-Null Count  Dtype         \n",
      "---  ------        --------------  -----         \n",
      " 0   data          45939 non-null  datetime64[ns]\n",
      " 1   nome          45939 non-null  object        \n",
      " 2   email         45939 non-null  object        \n",
      " 3   utm_source    45939 non-null  object        \n",
      " 4   utm_campaign  45939 non-null  object        \n",
      " 5   utm_medium    45939 non-null  object        \n",
      " 6   utm_content   45939 non-null  object        \n",
      " 7   tag           45939 non-null  object        \n",
      " 8   lancamentos   45939 non-null  object        \n",
      "dtypes: datetime64[ns](1), object(8)\n",
      "memory usage: 3.5+ MB\n"
     ]
    }
   ],
   "source": [
    "# Criar coluna de lançamentos baseada na data\n",
    "df_leads_trafego['lancamentos'] = df_leads_trafego['data'].apply(\n",
    "    lambda x: 'SSP-L13' if x.date() >= pd.to_datetime('2025-04-30').date() else 'SSP-L12'\n",
    ")\n",
    "\n",
    "# Remover e-mails duplicados dentro de cada lançamento\n",
    "df_leads_trafego = (\n",
    "    df_leads_trafego\n",
    "    .sort_values('data')  # garante ordem cronológica\n",
    "    .drop_duplicates(subset=['email', 'lancamentos'], keep='first')\n",
    ")\n",
    "\n",
    "df_leads_trafego.info()"
   ]
  },
  {
   "cell_type": "code",
   "execution_count": 9,
   "id": "9b353df1-2888-47aa-9cfa-118d5ac1c585",
   "metadata": {
    "execution": {
     "iopub.execute_input": "2025-05-09T09:45:32.906318Z",
     "iopub.status.busy": "2025-05-09T09:45:32.906318Z",
     "iopub.status.idle": "2025-05-09T09:45:32.919671Z",
     "shell.execute_reply": "2025-05-09T09:45:32.918668Z"
    },
    "papermill": {
     "duration": 0.034242,
     "end_time": "2025-05-09T09:45:32.921842",
     "exception": false,
     "start_time": "2025-05-09T09:45:32.887600",
     "status": "completed"
    },
    "tags": []
   },
   "outputs": [
    {
     "data": {
      "text/plain": [
       "lancamentos\n",
       "SSP-L12    29443\n",
       "SSP-L13    16496\n",
       "Name: count, dtype: int64"
      ]
     },
     "execution_count": 9,
     "metadata": {},
     "output_type": "execute_result"
    }
   ],
   "source": [
    "df_leads_trafego[\"lancamentos\"].value_counts()"
   ]
  },
  {
   "cell_type": "code",
   "execution_count": 10,
   "id": "383c8a11-6642-4177-9862-4f22f33a8d03",
   "metadata": {
    "execution": {
     "iopub.execute_input": "2025-05-09T09:45:32.934875Z",
     "iopub.status.busy": "2025-05-09T09:45:32.934875Z",
     "iopub.status.idle": "2025-05-09T09:45:32.960589Z",
     "shell.execute_reply": "2025-05-09T09:45:32.959944Z"
    },
    "papermill": {
     "duration": 0.035582,
     "end_time": "2025-05-09T09:45:32.961669",
     "exception": false,
     "start_time": "2025-05-09T09:45:32.926087",
     "status": "completed"
    },
    "tags": []
   },
   "outputs": [
    {
     "data": {
      "text/html": [
       "<div>\n",
       "<style scoped>\n",
       "    .dataframe tbody tr th:only-of-type {\n",
       "        vertical-align: middle;\n",
       "    }\n",
       "\n",
       "    .dataframe tbody tr th {\n",
       "        vertical-align: top;\n",
       "    }\n",
       "\n",
       "    .dataframe thead th {\n",
       "        text-align: right;\n",
       "    }\n",
       "</style>\n",
       "<table border=\"1\" class=\"dataframe\">\n",
       "  <thead>\n",
       "    <tr style=\"text-align: right;\">\n",
       "      <th></th>\n",
       "      <th>data</th>\n",
       "      <th>nome</th>\n",
       "      <th>utm_source</th>\n",
       "      <th>utm_campaign</th>\n",
       "      <th>utm_medium</th>\n",
       "      <th>utm_content</th>\n",
       "      <th>tag</th>\n",
       "      <th>lancamentos</th>\n",
       "    </tr>\n",
       "  </thead>\n",
       "  <tbody>\n",
       "    <tr>\n",
       "      <th>0</th>\n",
       "      <td>2025-03-31</td>\n",
       "      <td>Hermes</td>\n",
       "      <td>Facebook-Ads</td>\n",
       "      <td>SSP-L12 | CAPTACAO | CBO | FRIO | ALL | BR | 3...</td>\n",
       "      <td>00 | AUTO | LAL | 1% | ENVOLVIMENTO IG 7D</td>\n",
       "      <td>ADS_002_ANUNCIO PETRO 02</td>\n",
       "      <td>SSP-L12</td>\n",
       "      <td>SSP-L12</td>\n",
       "    </tr>\n",
       "    <tr>\n",
       "      <th>300</th>\n",
       "      <td>2025-03-31</td>\n",
       "      <td>Johnny</td>\n",
       "      <td>Facebook-Ads</td>\n",
       "      <td>SSP-L12 | CAPTACAO | CBO | FRIO | ALL | BR | 3...</td>\n",
       "      <td>00 | AUTO | LAL | 1% | ENVOLVIMENTO IG 7D</td>\n",
       "      <td>ADS_001_ANUNCIO PETRO 01</td>\n",
       "      <td>SSP-L12</td>\n",
       "      <td>SSP-L12</td>\n",
       "    </tr>\n",
       "    <tr>\n",
       "      <th>299</th>\n",
       "      <td>2025-03-31</td>\n",
       "      <td>Willian</td>\n",
       "      <td>Facebook-Ads</td>\n",
       "      <td>SSP-L12 | CAPTACAO | CBO | FRIO | ALL | BR | 3...</td>\n",
       "      <td>00 | AUTO | LAL | 1%  | ENVOLVIMENTO IG 14D</td>\n",
       "      <td>ADS_001_ANUNCIO PETRO 01</td>\n",
       "      <td>SSP-L12</td>\n",
       "      <td>SSP-L12</td>\n",
       "    </tr>\n",
       "    <tr>\n",
       "      <th>297</th>\n",
       "      <td>2025-03-31</td>\n",
       "      <td>Robson</td>\n",
       "      <td>Facebook-Ads</td>\n",
       "      <td>SSP-L12 | CAPTACAO | CBO | FRIO | ALL | BR | 3...</td>\n",
       "      <td>00 | AUTO | LAL | 1%  | ENVOLVIMENTO IG 14D</td>\n",
       "      <td>ADS_001_ANUNCIO PETRO 01</td>\n",
       "      <td>SSP-L12</td>\n",
       "      <td>SSP-L12</td>\n",
       "    </tr>\n",
       "    <tr>\n",
       "      <th>296</th>\n",
       "      <td>2025-03-31</td>\n",
       "      <td>Zidane</td>\n",
       "      <td>Facebook-Ads</td>\n",
       "      <td>SSP-L12 | CAPTACAO | CBO | FRIO | ALL | BR | 3...</td>\n",
       "      <td>00 | AUTO | LAL | 1%  | ENVOLVIMENTO IG 14D</td>\n",
       "      <td>ADS_001_ANUNCIO PETRO 01</td>\n",
       "      <td>SSP-L12</td>\n",
       "      <td>SSP-L12</td>\n",
       "    </tr>\n",
       "  </tbody>\n",
       "</table>\n",
       "</div>"
      ],
      "text/plain": [
       "          data     nome    utm_source  \\\n",
       "0   2025-03-31   Hermes  Facebook-Ads   \n",
       "300 2025-03-31   Johnny  Facebook-Ads   \n",
       "299 2025-03-31  Willian  Facebook-Ads   \n",
       "297 2025-03-31   Robson  Facebook-Ads   \n",
       "296 2025-03-31   Zidane  Facebook-Ads   \n",
       "\n",
       "                                          utm_campaign  \\\n",
       "0    SSP-L12 | CAPTACAO | CBO | FRIO | ALL | BR | 3...   \n",
       "300  SSP-L12 | CAPTACAO | CBO | FRIO | ALL | BR | 3...   \n",
       "299  SSP-L12 | CAPTACAO | CBO | FRIO | ALL | BR | 3...   \n",
       "297  SSP-L12 | CAPTACAO | CBO | FRIO | ALL | BR | 3...   \n",
       "296  SSP-L12 | CAPTACAO | CBO | FRIO | ALL | BR | 3...   \n",
       "\n",
       "                                      utm_medium               utm_content  \\\n",
       "0      00 | AUTO | LAL | 1% | ENVOLVIMENTO IG 7D  ADS_002_ANUNCIO PETRO 02   \n",
       "300    00 | AUTO | LAL | 1% | ENVOLVIMENTO IG 7D  ADS_001_ANUNCIO PETRO 01   \n",
       "299  00 | AUTO | LAL | 1%  | ENVOLVIMENTO IG 14D  ADS_001_ANUNCIO PETRO 01   \n",
       "297  00 | AUTO | LAL | 1%  | ENVOLVIMENTO IG 14D  ADS_001_ANUNCIO PETRO 01   \n",
       "296  00 | AUTO | LAL | 1%  | ENVOLVIMENTO IG 14D  ADS_001_ANUNCIO PETRO 01   \n",
       "\n",
       "         tag lancamentos  \n",
       "0    SSP-L12     SSP-L12  \n",
       "300  SSP-L12     SSP-L12  \n",
       "299  SSP-L12     SSP-L12  \n",
       "297  SSP-L12     SSP-L12  \n",
       "296  SSP-L12     SSP-L12  "
      ]
     },
     "execution_count": 10,
     "metadata": {},
     "output_type": "execute_result"
    }
   ],
   "source": [
    "df_leads_trafego.drop(columns=['email']).head()"
   ]
  },
  {
   "cell_type": "code",
   "execution_count": 11,
   "id": "14e6c710-690e-498b-8dde-9fd8abdc86a6",
   "metadata": {
    "execution": {
     "iopub.execute_input": "2025-05-09T09:45:32.978300Z",
     "iopub.status.busy": "2025-05-09T09:45:32.978300Z",
     "iopub.status.idle": "2025-05-09T09:45:32.992440Z",
     "shell.execute_reply": "2025-05-09T09:45:32.992440Z"
    },
    "papermill": {
     "duration": 0.024707,
     "end_time": "2025-05-09T09:45:32.994923",
     "exception": false,
     "start_time": "2025-05-09T09:45:32.970216",
     "status": "completed"
    },
    "tags": []
   },
   "outputs": [
    {
     "name": "stdout",
     "output_type": "stream",
     "text": [
      "<class 'pandas.core.frame.DataFrame'>\n",
      "RangeIndex: 593 entries, 0 to 592\n",
      "Data columns (total 1 columns):\n",
      " #   Column  Non-Null Count  Dtype \n",
      "---  ------  --------------  ----- \n",
      " 0   email   593 non-null    object\n",
      "dtypes: object(1)\n",
      "memory usage: 4.8+ KB\n"
     ]
    }
   ],
   "source": [
    "df_compradores.rename(columns={'email contato': 'email'}, inplace=True)\n",
    "df_compradores[\"email\"] = df_compradores[\"email\"].str.lower().str.strip()\n",
    "df_compradores = df_compradores.drop_duplicates(subset='email', keep='first')\n",
    "\n",
    "df_compradores.info()"
   ]
  },
  {
   "cell_type": "code",
   "execution_count": 12,
   "id": "abd96317-2a41-4f6b-b568-2a8b48c7a980",
   "metadata": {
    "execution": {
     "iopub.execute_input": "2025-05-09T09:45:33.010953Z",
     "iopub.status.busy": "2025-05-09T09:45:33.010953Z",
     "iopub.status.idle": "2025-05-09T09:45:33.026709Z",
     "shell.execute_reply": "2025-05-09T09:45:33.026709Z"
    },
    "papermill": {
     "duration": 0.026976,
     "end_time": "2025-05-09T09:45:33.029552",
     "exception": false,
     "start_time": "2025-05-09T09:45:33.002576",
     "status": "completed"
    },
    "tags": []
   },
   "outputs": [],
   "source": [
    "df_pesquisa_compradores_l12 = df_pesquisa_captacao[\n",
    "    df_pesquisa_captacao[\"email\"].isin(df_compradores[\"email\"])\n",
    "].copy()"
   ]
  },
  {
   "cell_type": "code",
   "execution_count": 13,
   "id": "c5c2afde-7807-4621-8f0d-19b7f2e09b41",
   "metadata": {
    "execution": {
     "iopub.execute_input": "2025-05-09T09:45:33.044051Z",
     "iopub.status.busy": "2025-05-09T09:45:33.044051Z",
     "iopub.status.idle": "2025-05-09T09:45:33.054908Z",
     "shell.execute_reply": "2025-05-09T09:45:33.054908Z"
    },
    "papermill": {
     "duration": 0.020838,
     "end_time": "2025-05-09T09:45:33.057383",
     "exception": false,
     "start_time": "2025-05-09T09:45:33.036545",
     "status": "completed"
    },
    "tags": []
   },
   "outputs": [
    {
     "name": "stdout",
     "output_type": "stream",
     "text": [
      "<class 'pandas.core.frame.DataFrame'>\n",
      "Index: 198 entries, 12 to 38311\n",
      "Data columns (total 9 columns):\n",
      " #   Column                 Non-Null Count  Dtype         \n",
      "---  ------                 --------------  -----         \n",
      " 0   data                   198 non-null    datetime64[ns]\n",
      " 1   email                  198 non-null    object        \n",
      " 2   idade                  198 non-null    object        \n",
      " 3   nível                  198 non-null    object        \n",
      " 4   situação profissional  198 non-null    object        \n",
      " 5   renda                  198 non-null    object        \n",
      " 6   escolaridade           198 non-null    object        \n",
      " 7   duvida                 198 non-null    object        \n",
      " 8   dificuldade            198 non-null    object        \n",
      "dtypes: datetime64[ns](1), object(8)\n",
      "memory usage: 15.5+ KB\n"
     ]
    }
   ],
   "source": [
    "df_pesquisa_compradores_l12.info()"
   ]
  },
  {
   "cell_type": "code",
   "execution_count": 14,
   "id": "1cd9ea00-7a81-44be-826e-37be2fca70d2",
   "metadata": {
    "execution": {
     "iopub.execute_input": "2025-05-09T09:45:33.071039Z",
     "iopub.status.busy": "2025-05-09T09:45:33.071039Z",
     "iopub.status.idle": "2025-05-09T09:45:33.088526Z",
     "shell.execute_reply": "2025-05-09T09:45:33.088526Z"
    },
    "papermill": {
     "duration": 0.032424,
     "end_time": "2025-05-09T09:45:33.091922",
     "exception": false,
     "start_time": "2025-05-09T09:45:33.059498",
     "status": "completed"
    },
    "tags": []
   },
   "outputs": [
    {
     "data": {
      "text/html": [
       "<div>\n",
       "<style scoped>\n",
       "    .dataframe tbody tr th:only-of-type {\n",
       "        vertical-align: middle;\n",
       "    }\n",
       "\n",
       "    .dataframe tbody tr th {\n",
       "        vertical-align: top;\n",
       "    }\n",
       "\n",
       "    .dataframe thead th {\n",
       "        text-align: right;\n",
       "    }\n",
       "</style>\n",
       "<table border=\"1\" class=\"dataframe\">\n",
       "  <thead>\n",
       "    <tr style=\"text-align: right;\">\n",
       "      <th></th>\n",
       "      <th>data</th>\n",
       "      <th>idade</th>\n",
       "      <th>nível</th>\n",
       "      <th>situação profissional</th>\n",
       "      <th>renda</th>\n",
       "      <th>escolaridade</th>\n",
       "      <th>duvida</th>\n",
       "      <th>dificuldade</th>\n",
       "    </tr>\n",
       "  </thead>\n",
       "  <tbody>\n",
       "    <tr>\n",
       "      <th>12</th>\n",
       "      <td>2025-04-07</td>\n",
       "      <td>18-22</td>\n",
       "      <td>Superior</td>\n",
       "      <td>Funcionário de empresa privada</td>\n",
       "      <td>De 1.000 a 3.000</td>\n",
       "      <td>Ensino superior completo</td>\n",
       "      <td>A quais vagas posso concorrer tendo tecnólogo ...</td>\n",
       "      <td>Tempo</td>\n",
       "    </tr>\n",
       "    <tr>\n",
       "      <th>60</th>\n",
       "      <td>2025-04-07</td>\n",
       "      <td>38-45</td>\n",
       "      <td>Técnica</td>\n",
       "      <td>Funcionário de empresa privada</td>\n",
       "      <td>De 1.000 a 3.000</td>\n",
       "      <td>Ensino médio completo</td>\n",
       "      <td>Tenho o curso técnico em contabilidade servi p...</td>\n",
       "      <td>Memorização</td>\n",
       "    </tr>\n",
       "    <tr>\n",
       "      <th>270</th>\n",
       "      <td>2025-04-07</td>\n",
       "      <td>28-32</td>\n",
       "      <td>Técnica</td>\n",
       "      <td>Funcionário de empresa privada</td>\n",
       "      <td>De 1.000 a 3.000</td>\n",
       "      <td>Ensino médio completo</td>\n",
       "      <td>Em qual cidade irei fazer o concurso?</td>\n",
       "      <td>Não sei o que estudar</td>\n",
       "    </tr>\n",
       "    <tr>\n",
       "      <th>295</th>\n",
       "      <td>2025-04-07</td>\n",
       "      <td>28-32</td>\n",
       "      <td>Técnica</td>\n",
       "      <td>Desempregado(a)</td>\n",
       "      <td>De 1.000 a 3.000</td>\n",
       "      <td>Ensino superior completo</td>\n",
       "      <td>Quando vai sair o edital</td>\n",
       "      <td>Foco</td>\n",
       "    </tr>\n",
       "    <tr>\n",
       "      <th>309</th>\n",
       "      <td>2025-04-07</td>\n",
       "      <td>46-52</td>\n",
       "      <td>Técnica</td>\n",
       "      <td>Funcionário de empresa privada</td>\n",
       "      <td>De 3.000 a 5.000</td>\n",
       "      <td>Nível técnico completo</td>\n",
       "      <td>A prova</td>\n",
       "      <td>Tempo</td>\n",
       "    </tr>\n",
       "  </tbody>\n",
       "</table>\n",
       "</div>"
      ],
      "text/plain": [
       "          data  idade     nível           situação profissional  \\\n",
       "12  2025-04-07  18-22  Superior  Funcionário de empresa privada   \n",
       "60  2025-04-07  38-45   Técnica  Funcionário de empresa privada   \n",
       "270 2025-04-07  28-32   Técnica  Funcionário de empresa privada   \n",
       "295 2025-04-07  28-32   Técnica                 Desempregado(a)   \n",
       "309 2025-04-07  46-52   Técnica  Funcionário de empresa privada   \n",
       "\n",
       "                renda              escolaridade  \\\n",
       "12   De 1.000 a 3.000  Ensino superior completo   \n",
       "60   De 1.000 a 3.000     Ensino médio completo   \n",
       "270  De 1.000 a 3.000     Ensino médio completo   \n",
       "295  De 1.000 a 3.000  Ensino superior completo   \n",
       "309  De 3.000 a 5.000    Nível técnico completo   \n",
       "\n",
       "                                                duvida             dificuldade  \n",
       "12   A quais vagas posso concorrer tendo tecnólogo ...                   Tempo  \n",
       "60   Tenho o curso técnico em contabilidade servi p...            Memorização   \n",
       "270              Em qual cidade irei fazer o concurso?  Não sei o que estudar   \n",
       "295                          Quando vai sair o edital                    Foco   \n",
       "309                                            A prova                  Tempo   "
      ]
     },
     "execution_count": 14,
     "metadata": {},
     "output_type": "execute_result"
    }
   ],
   "source": [
    "df_pesquisa_compradores_l12.drop(columns=['email']).head()"
   ]
  },
  {
   "cell_type": "code",
   "execution_count": 15,
   "id": "ad13f43e-753f-43d0-88eb-cf3219691223",
   "metadata": {
    "execution": {
     "iopub.execute_input": "2025-05-09T09:45:33.113181Z",
     "iopub.status.busy": "2025-05-09T09:45:33.113181Z",
     "iopub.status.idle": "2025-05-09T09:45:33.126534Z",
     "shell.execute_reply": "2025-05-09T09:45:33.125297Z"
    },
    "papermill": {
     "duration": 0.020656,
     "end_time": "2025-05-09T09:45:33.126534",
     "exception": false,
     "start_time": "2025-05-09T09:45:33.105878",
     "status": "completed"
    },
    "tags": []
   },
   "outputs": [],
   "source": [
    "df_compradores_nao_respondentes = df_compradores[\n",
    "    ~df_compradores[\"email\"].isin(df_pesquisa_captacao[\"email\"])\n",
    "].copy()"
   ]
  },
  {
   "cell_type": "code",
   "execution_count": 16,
   "id": "70028302-ab9e-43f5-929a-ff28b4728a43",
   "metadata": {
    "execution": {
     "iopub.execute_input": "2025-05-09T09:45:33.140746Z",
     "iopub.status.busy": "2025-05-09T09:45:33.140746Z",
     "iopub.status.idle": "2025-05-09T09:45:33.154027Z",
     "shell.execute_reply": "2025-05-09T09:45:33.154027Z"
    },
    "papermill": {
     "duration": 0.02191,
     "end_time": "2025-05-09T09:45:33.156925",
     "exception": false,
     "start_time": "2025-05-09T09:45:33.135015",
     "status": "completed"
    },
    "tags": []
   },
   "outputs": [
    {
     "name": "stdout",
     "output_type": "stream",
     "text": [
      "<class 'pandas.core.frame.DataFrame'>\n",
      "Index: 395 entries, 0 to 591\n",
      "Data columns (total 1 columns):\n",
      " #   Column  Non-Null Count  Dtype \n",
      "---  ------  --------------  ----- \n",
      " 0   email   395 non-null    object\n",
      "dtypes: object(1)\n",
      "memory usage: 6.2+ KB\n"
     ]
    }
   ],
   "source": [
    "df_compradores_nao_respondentes.info()"
   ]
  },
  {
   "cell_type": "code",
   "execution_count": 17,
   "id": "8fc78948-4ff2-436c-9e73-7af4869aeedb",
   "metadata": {
    "execution": {
     "iopub.execute_input": "2025-05-09T09:45:33.173552Z",
     "iopub.status.busy": "2025-05-09T09:45:33.173552Z",
     "iopub.status.idle": "2025-05-09T09:45:33.371202Z",
     "shell.execute_reply": "2025-05-09T09:45:33.371202Z"
    },
    "papermill": {
     "duration": 0.216823,
     "end_time": "2025-05-09T09:45:33.373748",
     "exception": false,
     "start_time": "2025-05-09T09:45:33.156925",
     "status": "completed"
    },
    "tags": []
   },
   "outputs": [],
   "source": [
    "# Merge mantendo os lançamentos da pesquisa\n",
    "df_pesquisa_captacao = df_pesquisa_captacao.merge(\n",
    "    df_leads_trafego[['email'] + colunas_utms + ['lancamentos']],\n",
    "    on='email',\n",
    "    how='left'\n",
    ")\n",
    "\n",
    "df_pesquisa_compradores_l12 = df_pesquisa_compradores_l12.merge(\n",
    "    df_leads_trafego[[\"email\"] + colunas_utms + [\"lancamentos\"]],\n",
    "    on=\"email\",\n",
    "    how=\"left\"\n",
    ")"
   ]
  },
  {
   "cell_type": "code",
   "execution_count": 18,
   "id": "47c6ae4c-b574-4dea-bc11-6dc5c41e50cf",
   "metadata": {
    "execution": {
     "iopub.execute_input": "2025-05-09T09:45:33.389421Z",
     "iopub.status.busy": "2025-05-09T09:45:33.389421Z",
     "iopub.status.idle": "2025-05-09T09:45:33.450418Z",
     "shell.execute_reply": "2025-05-09T09:45:33.450418Z"
    },
    "papermill": {
     "duration": 0.071279,
     "end_time": "2025-05-09T09:45:33.452912",
     "exception": false,
     "start_time": "2025-05-09T09:45:33.381633",
     "status": "completed"
    },
    "tags": []
   },
   "outputs": [
    {
     "data": {
      "text/plain": [
       "15966"
      ]
     },
     "execution_count": 18,
     "metadata": {},
     "output_type": "execute_result"
    }
   ],
   "source": [
    "emails_pesquisa = set(df_pesquisa_captacao['email'].unique())\n",
    "emails_trafego = set(df_leads_trafego['email'].unique())\n",
    "emails_aluno = set(df_pesquisa_compradores_l12['email'].unique())\n",
    "\n",
    "# Quantos e-mails da pesquisa não estão no tráfego?\n",
    "len(emails_pesquisa - emails_trafego)"
   ]
  },
  {
   "cell_type": "code",
   "execution_count": 19,
   "id": "4626ea2c-e2c1-4c0c-ba71-31908a04b328",
   "metadata": {
    "execution": {
     "iopub.execute_input": "2025-05-09T09:45:33.468908Z",
     "iopub.status.busy": "2025-05-09T09:45:33.468908Z",
     "iopub.status.idle": "2025-05-09T09:45:33.503499Z",
     "shell.execute_reply": "2025-05-09T09:45:33.503499Z"
    },
    "papermill": {
     "duration": 0.050587,
     "end_time": "2025-05-09T09:45:33.503499",
     "exception": false,
     "start_time": "2025-05-09T09:45:33.452912",
     "status": "completed"
    },
    "tags": []
   },
   "outputs": [
    {
     "data": {
      "text/html": [
       "<div>\n",
       "<style scoped>\n",
       "    .dataframe tbody tr th:only-of-type {\n",
       "        vertical-align: middle;\n",
       "    }\n",
       "\n",
       "    .dataframe tbody tr th {\n",
       "        vertical-align: top;\n",
       "    }\n",
       "\n",
       "    .dataframe thead th {\n",
       "        text-align: right;\n",
       "    }\n",
       "</style>\n",
       "<table border=\"1\" class=\"dataframe\">\n",
       "  <thead>\n",
       "    <tr style=\"text-align: right;\">\n",
       "      <th></th>\n",
       "      <th>data</th>\n",
       "      <th>idade</th>\n",
       "      <th>nível</th>\n",
       "      <th>situação profissional</th>\n",
       "      <th>renda</th>\n",
       "      <th>escolaridade</th>\n",
       "      <th>duvida</th>\n",
       "      <th>dificuldade</th>\n",
       "      <th>utm_source</th>\n",
       "      <th>utm_campaign</th>\n",
       "      <th>utm_medium</th>\n",
       "      <th>utm_content</th>\n",
       "      <th>lancamentos</th>\n",
       "    </tr>\n",
       "  </thead>\n",
       "  <tbody>\n",
       "    <tr>\n",
       "      <th>0</th>\n",
       "      <td>2025-04-07</td>\n",
       "      <td>33-37</td>\n",
       "      <td>Técnica</td>\n",
       "      <td>Autônomo</td>\n",
       "      <td>De 1.000 a 3.000</td>\n",
       "      <td>Ensino médio completo</td>\n",
       "      <td>O que preciso pra ser aprovado</td>\n",
       "      <td>Tempo</td>\n",
       "      <td>NaN</td>\n",
       "      <td>NaN</td>\n",
       "      <td>NaN</td>\n",
       "      <td>NaN</td>\n",
       "      <td>NaN</td>\n",
       "    </tr>\n",
       "    <tr>\n",
       "      <th>1</th>\n",
       "      <td>2025-04-07</td>\n",
       "      <td>23-27</td>\n",
       "      <td>Técnica</td>\n",
       "      <td>Desempregado(a)</td>\n",
       "      <td>Estou desempregado(a)</td>\n",
       "      <td>Ensino superior incompleto</td>\n",
       "      <td>.</td>\n",
       "      <td>Separa material</td>\n",
       "      <td>Facebook-Ads</td>\n",
       "      <td>SSP-L12 | CAPTACAO | CBO | FRIO | ALL | BR | 3...</td>\n",
       "      <td>00 | AUTO | LAL | 1% | ENVOLVIMENTO IG 7D</td>\n",
       "      <td>ADS_001_ANUNCIO PETRO 01</td>\n",
       "      <td>SSP-L12</td>\n",
       "    </tr>\n",
       "    <tr>\n",
       "      <th>2</th>\n",
       "      <td>2025-04-07</td>\n",
       "      <td>18-22</td>\n",
       "      <td>Superior</td>\n",
       "      <td>Desempregado(a)</td>\n",
       "      <td>Estou desempregado(a)</td>\n",
       "      <td>Ensino médio completo</td>\n",
       "      <td>O quão difícil é conseguir passar</td>\n",
       "      <td>Nenhuma</td>\n",
       "      <td>Facebook-Ads</td>\n",
       "      <td>SSP-L12 | CAPTACAO | CBO | QUENTE | ALL | BR |...</td>\n",
       "      <td>00 | AUTO | ENVOLVIMENTO | 90D</td>\n",
       "      <td>ADS_006_ANUNCIO PETRO 06</td>\n",
       "      <td>SSP-L12</td>\n",
       "    </tr>\n",
       "    <tr>\n",
       "      <th>3</th>\n",
       "      <td>2025-04-07</td>\n",
       "      <td>28-32</td>\n",
       "      <td>Técnica</td>\n",
       "      <td>Desempregado(a)</td>\n",
       "      <td>Estou desempregado(a)</td>\n",
       "      <td>Nível técnico completo</td>\n",
       "      <td>Em qual lugar do Brasil pode fazer o concurso?</td>\n",
       "      <td>Tempo</td>\n",
       "      <td>Facebook-Ads</td>\n",
       "      <td>SSP-L12 | CAPTACAO | CBO | QUENTE | ALL | BR |...</td>\n",
       "      <td>00 | AUTO | ENVOLVIMENTO | 30D</td>\n",
       "      <td>ADS_001_ANUNCIO PETRO 01</td>\n",
       "      <td>SSP-L12</td>\n",
       "    </tr>\n",
       "    <tr>\n",
       "      <th>4</th>\n",
       "      <td>2025-04-07</td>\n",
       "      <td>18-22</td>\n",
       "      <td>Técnica</td>\n",
       "      <td>Autônomo</td>\n",
       "      <td>Estou desempregado(a)</td>\n",
       "      <td>Ensino médio completo</td>\n",
       "      <td>Se precisa de ensino superior</td>\n",
       "      <td>Nenhuma</td>\n",
       "      <td>NaN</td>\n",
       "      <td>NaN</td>\n",
       "      <td>NaN</td>\n",
       "      <td>NaN</td>\n",
       "      <td>NaN</td>\n",
       "    </tr>\n",
       "  </tbody>\n",
       "</table>\n",
       "</div>"
      ],
      "text/plain": [
       "        data  idade     nível situação profissional                  renda  \\\n",
       "0 2025-04-07  33-37   Técnica              Autônomo       De 1.000 a 3.000   \n",
       "1 2025-04-07  23-27   Técnica       Desempregado(a)  Estou desempregado(a)   \n",
       "2 2025-04-07  18-22  Superior       Desempregado(a)  Estou desempregado(a)   \n",
       "3 2025-04-07  28-32   Técnica       Desempregado(a)  Estou desempregado(a)   \n",
       "4 2025-04-07  18-22   Técnica              Autônomo  Estou desempregado(a)   \n",
       "\n",
       "                 escolaridade                                          duvida  \\\n",
       "0       Ensino médio completo                  O que preciso pra ser aprovado   \n",
       "1  Ensino superior incompleto                                               .   \n",
       "2       Ensino médio completo               O quão difícil é conseguir passar   \n",
       "3      Nível técnico completo  Em qual lugar do Brasil pode fazer o concurso?   \n",
       "4       Ensino médio completo                  Se precisa de ensino superior    \n",
       "\n",
       "        dificuldade    utm_source  \\\n",
       "0             Tempo           NaN   \n",
       "1  Separa material   Facebook-Ads   \n",
       "2          Nenhuma   Facebook-Ads   \n",
       "3             Tempo  Facebook-Ads   \n",
       "4           Nenhuma           NaN   \n",
       "\n",
       "                                        utm_campaign  \\\n",
       "0                                                NaN   \n",
       "1  SSP-L12 | CAPTACAO | CBO | FRIO | ALL | BR | 3...   \n",
       "2  SSP-L12 | CAPTACAO | CBO | QUENTE | ALL | BR |...   \n",
       "3  SSP-L12 | CAPTACAO | CBO | QUENTE | ALL | BR |...   \n",
       "4                                                NaN   \n",
       "\n",
       "                                  utm_medium               utm_content  \\\n",
       "0                                        NaN                       NaN   \n",
       "1  00 | AUTO | LAL | 1% | ENVOLVIMENTO IG 7D  ADS_001_ANUNCIO PETRO 01   \n",
       "2             00 | AUTO | ENVOLVIMENTO | 90D  ADS_006_ANUNCIO PETRO 06   \n",
       "3             00 | AUTO | ENVOLVIMENTO | 30D  ADS_001_ANUNCIO PETRO 01   \n",
       "4                                        NaN                       NaN   \n",
       "\n",
       "  lancamentos  \n",
       "0         NaN  \n",
       "1     SSP-L12  \n",
       "2     SSP-L12  \n",
       "3     SSP-L12  \n",
       "4         NaN  "
      ]
     },
     "execution_count": 19,
     "metadata": {},
     "output_type": "execute_result"
    }
   ],
   "source": [
    "df_pesquisa_captacao.drop(columns=['email']).head()"
   ]
  },
  {
   "cell_type": "code",
   "execution_count": 20,
   "id": "2435b8fc-ba14-4e54-9a83-46dafaf0e68f",
   "metadata": {
    "execution": {
     "iopub.execute_input": "2025-05-09T09:45:33.516697Z",
     "iopub.status.busy": "2025-05-09T09:45:33.516697Z",
     "iopub.status.idle": "2025-05-09T09:45:33.544668Z",
     "shell.execute_reply": "2025-05-09T09:45:33.544668Z"
    },
    "papermill": {
     "duration": 0.031716,
     "end_time": "2025-05-09T09:45:33.548413",
     "exception": false,
     "start_time": "2025-05-09T09:45:33.516697",
     "status": "completed"
    },
    "tags": []
   },
   "outputs": [
    {
     "data": {
      "text/html": [
       "<div>\n",
       "<style scoped>\n",
       "    .dataframe tbody tr th:only-of-type {\n",
       "        vertical-align: middle;\n",
       "    }\n",
       "\n",
       "    .dataframe tbody tr th {\n",
       "        vertical-align: top;\n",
       "    }\n",
       "\n",
       "    .dataframe thead th {\n",
       "        text-align: right;\n",
       "    }\n",
       "</style>\n",
       "<table border=\"1\" class=\"dataframe\">\n",
       "  <thead>\n",
       "    <tr style=\"text-align: right;\">\n",
       "      <th></th>\n",
       "      <th>data</th>\n",
       "      <th>idade</th>\n",
       "      <th>nível</th>\n",
       "      <th>situação profissional</th>\n",
       "      <th>renda</th>\n",
       "      <th>escolaridade</th>\n",
       "      <th>duvida</th>\n",
       "      <th>dificuldade</th>\n",
       "      <th>utm_source</th>\n",
       "      <th>utm_campaign</th>\n",
       "      <th>utm_medium</th>\n",
       "      <th>utm_content</th>\n",
       "      <th>lancamentos</th>\n",
       "    </tr>\n",
       "  </thead>\n",
       "  <tbody>\n",
       "    <tr>\n",
       "      <th>0</th>\n",
       "      <td>2025-04-07</td>\n",
       "      <td>18-22</td>\n",
       "      <td>Superior</td>\n",
       "      <td>Funcionário de empresa privada</td>\n",
       "      <td>De 1.000 a 3.000</td>\n",
       "      <td>Ensino superior completo</td>\n",
       "      <td>A quais vagas posso concorrer tendo tecnólogo ...</td>\n",
       "      <td>Tempo</td>\n",
       "      <td>Youtube</td>\n",
       "      <td></td>\n",
       "      <td>Descricao</td>\n",
       "      <td></td>\n",
       "      <td>SSP-L12</td>\n",
       "    </tr>\n",
       "    <tr>\n",
       "      <th>1</th>\n",
       "      <td>2025-04-07</td>\n",
       "      <td>38-45</td>\n",
       "      <td>Técnica</td>\n",
       "      <td>Funcionário de empresa privada</td>\n",
       "      <td>De 1.000 a 3.000</td>\n",
       "      <td>Ensino médio completo</td>\n",
       "      <td>Tenho o curso técnico em contabilidade servi p...</td>\n",
       "      <td>Memorização</td>\n",
       "      <td>NaN</td>\n",
       "      <td>NaN</td>\n",
       "      <td>NaN</td>\n",
       "      <td>NaN</td>\n",
       "      <td>NaN</td>\n",
       "    </tr>\n",
       "    <tr>\n",
       "      <th>2</th>\n",
       "      <td>2025-04-07</td>\n",
       "      <td>28-32</td>\n",
       "      <td>Técnica</td>\n",
       "      <td>Funcionário de empresa privada</td>\n",
       "      <td>De 1.000 a 3.000</td>\n",
       "      <td>Ensino médio completo</td>\n",
       "      <td>Em qual cidade irei fazer o concurso?</td>\n",
       "      <td>Não sei o que estudar</td>\n",
       "      <td>Youtube</td>\n",
       "      <td></td>\n",
       "      <td>Descricao</td>\n",
       "      <td></td>\n",
       "      <td>SSP-L12</td>\n",
       "    </tr>\n",
       "    <tr>\n",
       "      <th>3</th>\n",
       "      <td>2025-04-07</td>\n",
       "      <td>28-32</td>\n",
       "      <td>Técnica</td>\n",
       "      <td>Desempregado(a)</td>\n",
       "      <td>De 1.000 a 3.000</td>\n",
       "      <td>Ensino superior completo</td>\n",
       "      <td>Quando vai sair o edital</td>\n",
       "      <td>Foco</td>\n",
       "      <td>Facebook-Ads</td>\n",
       "      <td>SSP-L12 | CAPTACAO | CBO | QUENTE | ALL | BR |...</td>\n",
       "      <td>00 | AUTO | ENVOLVIMENTO | 90D</td>\n",
       "      <td>ADS_007_ANUNCIO PETRO 07</td>\n",
       "      <td>SSP-L12</td>\n",
       "    </tr>\n",
       "    <tr>\n",
       "      <th>4</th>\n",
       "      <td>2025-04-07</td>\n",
       "      <td>46-52</td>\n",
       "      <td>Técnica</td>\n",
       "      <td>Funcionário de empresa privada</td>\n",
       "      <td>De 3.000 a 5.000</td>\n",
       "      <td>Nível técnico completo</td>\n",
       "      <td>A prova</td>\n",
       "      <td>Tempo</td>\n",
       "      <td>Facebook-Ads</td>\n",
       "      <td>SSP-L12 | CAPTACAO | CBO | FRIO | ALL | BR | 3...</td>\n",
       "      <td>00 | AUTO | LAL | 1%  | ENVOLVIMENTO IG 14D</td>\n",
       "      <td>ADS_001_ANUNCIO PETRO 01</td>\n",
       "      <td>SSP-L12</td>\n",
       "    </tr>\n",
       "  </tbody>\n",
       "</table>\n",
       "</div>"
      ],
      "text/plain": [
       "        data  idade     nível           situação profissional  \\\n",
       "0 2025-04-07  18-22  Superior  Funcionário de empresa privada   \n",
       "1 2025-04-07  38-45   Técnica  Funcionário de empresa privada   \n",
       "2 2025-04-07  28-32   Técnica  Funcionário de empresa privada   \n",
       "3 2025-04-07  28-32   Técnica                 Desempregado(a)   \n",
       "4 2025-04-07  46-52   Técnica  Funcionário de empresa privada   \n",
       "\n",
       "              renda              escolaridade  \\\n",
       "0  De 1.000 a 3.000  Ensino superior completo   \n",
       "1  De 1.000 a 3.000     Ensino médio completo   \n",
       "2  De 1.000 a 3.000     Ensino médio completo   \n",
       "3  De 1.000 a 3.000  Ensino superior completo   \n",
       "4  De 3.000 a 5.000    Nível técnico completo   \n",
       "\n",
       "                                              duvida             dificuldade  \\\n",
       "0  A quais vagas posso concorrer tendo tecnólogo ...                   Tempo   \n",
       "1  Tenho o curso técnico em contabilidade servi p...            Memorização    \n",
       "2              Em qual cidade irei fazer o concurso?  Não sei o que estudar    \n",
       "3                          Quando vai sair o edital                    Foco    \n",
       "4                                            A prova                  Tempo    \n",
       "\n",
       "     utm_source                                       utm_campaign  \\\n",
       "0       Youtube                                                      \n",
       "1           NaN                                                NaN   \n",
       "2       Youtube                                                      \n",
       "3  Facebook-Ads  SSP-L12 | CAPTACAO | CBO | QUENTE | ALL | BR |...   \n",
       "4  Facebook-Ads  SSP-L12 | CAPTACAO | CBO | FRIO | ALL | BR | 3...   \n",
       "\n",
       "                                    utm_medium               utm_content  \\\n",
       "0                                    Descricao                             \n",
       "1                                          NaN                       NaN   \n",
       "2                                    Descricao                             \n",
       "3               00 | AUTO | ENVOLVIMENTO | 90D  ADS_007_ANUNCIO PETRO 07   \n",
       "4  00 | AUTO | LAL | 1%  | ENVOLVIMENTO IG 14D  ADS_001_ANUNCIO PETRO 01   \n",
       "\n",
       "  lancamentos  \n",
       "0     SSP-L12  \n",
       "1         NaN  \n",
       "2     SSP-L12  \n",
       "3     SSP-L12  \n",
       "4     SSP-L12  "
      ]
     },
     "execution_count": 20,
     "metadata": {},
     "output_type": "execute_result"
    }
   ],
   "source": [
    "df_pesquisa_compradores_l12.drop(columns=['email']).head()"
   ]
  },
  {
   "cell_type": "code",
   "execution_count": 21,
   "id": "4da1759d-acce-4cf0-9654-4d6ce574298a",
   "metadata": {
    "execution": {
     "iopub.execute_input": "2025-05-09T09:45:33.564273Z",
     "iopub.status.busy": "2025-05-09T09:45:33.564273Z",
     "iopub.status.idle": "2025-05-09T09:45:33.613569Z",
     "shell.execute_reply": "2025-05-09T09:45:33.613569Z"
    },
    "papermill": {
     "duration": 0.065156,
     "end_time": "2025-05-09T09:45:33.613569",
     "exception": false,
     "start_time": "2025-05-09T09:45:33.548413",
     "status": "completed"
    },
    "tags": []
   },
   "outputs": [
    {
     "name": "stdout",
     "output_type": "stream",
     "text": [
      "<class 'pandas.core.frame.DataFrame'>\n",
      "RangeIndex: 42078 entries, 0 to 42077\n",
      "Data columns (total 14 columns):\n",
      " #   Column                 Non-Null Count  Dtype         \n",
      "---  ------                 --------------  -----         \n",
      " 0   data                   42078 non-null  datetime64[ns]\n",
      " 1   email                  42078 non-null  object        \n",
      " 2   idade                  42078 non-null  object        \n",
      " 3   nível                  42078 non-null  object        \n",
      " 4   situação profissional  42078 non-null  object        \n",
      " 5   renda                  42078 non-null  object        \n",
      " 6   escolaridade           42078 non-null  object        \n",
      " 7   duvida                 42078 non-null  object        \n",
      " 8   dificuldade            42078 non-null  object        \n",
      " 9   utm_source             26112 non-null  object        \n",
      " 10  utm_campaign           26112 non-null  object        \n",
      " 11  utm_medium             26112 non-null  object        \n",
      " 12  utm_content            26112 non-null  object        \n",
      " 13  lancamentos            26112 non-null  object        \n",
      "dtypes: datetime64[ns](1), object(13)\n",
      "memory usage: 4.5+ MB\n"
     ]
    }
   ],
   "source": [
    "df_pesquisa_captacao.info()"
   ]
  },
  {
   "cell_type": "code",
   "execution_count": 22,
   "id": "c33c9a95-07fc-41a2-8829-b444625a0715",
   "metadata": {
    "execution": {
     "iopub.execute_input": "2025-05-09T09:45:33.626981Z",
     "iopub.status.busy": "2025-05-09T09:45:33.626981Z",
     "iopub.status.idle": "2025-05-09T09:45:33.644098Z",
     "shell.execute_reply": "2025-05-09T09:45:33.644098Z"
    },
    "papermill": {
     "duration": 0.02115,
     "end_time": "2025-05-09T09:45:33.644098",
     "exception": false,
     "start_time": "2025-05-09T09:45:33.622948",
     "status": "completed"
    },
    "tags": []
   },
   "outputs": [
    {
     "name": "stdout",
     "output_type": "stream",
     "text": [
      "Quantidade de linhas com TODAS as UTMs NaN: 57\n"
     ]
    }
   ],
   "source": [
    "# Contar quantas linhas têm todas as UTMs como NaN\n",
    "qtd_todas_utms_nan = df_pesquisa_compradores_l12[colunas_utms].isna().all(axis=1).sum()\n",
    "\n",
    "print(f\"Quantidade de linhas com TODAS as UTMs NaN: {qtd_todas_utms_nan}\")"
   ]
  },
  {
   "cell_type": "code",
   "execution_count": 23,
   "id": "f4eb1137-f54f-4ad7-84dd-b140fe517daa",
   "metadata": {
    "execution": {
     "iopub.execute_input": "2025-05-09T09:45:33.668957Z",
     "iopub.status.busy": "2025-05-09T09:45:33.668957Z",
     "iopub.status.idle": "2025-05-09T09:45:33.677926Z",
     "shell.execute_reply": "2025-05-09T09:45:33.677926Z"
    },
    "papermill": {
     "duration": 0.033828,
     "end_time": "2025-05-09T09:45:33.677926",
     "exception": false,
     "start_time": "2025-05-09T09:45:33.644098",
     "status": "completed"
    },
    "tags": []
   },
   "outputs": [
    {
     "data": {
      "text/plain": [
       "'\\nmodel = SentenceTransformer(\"all-MiniLM-L6-v2\")\\n\\n# Mapas distintos por coluna\\nmapeamentos = {\\n    \\'problema_aprender\\': mapeamento_problema_aprender,\\n    \\'profissao\\': mapeamento_profissoes,\\n    \\'fala_outro_idioma\\': mapeamento_outros_idiomas,\\n    \\'motivo_fluencia_espanhol\\': mapeamento_motivo_fluencia,\\n    \\'escolaridade\\': mapeamento_escolaridade\\n}\\n\\nfor coluna, mapeamento in mapeamentos.items():\\n    nome_coluna_categoria = f\"{coluna}_categoria\"\\n\\n    # Expandir mapeamento para esta coluna\\n    mapeamento_expandido, mapeamento_embeddings = preparar_para_categoria(mapeamento, model)\\n\\n    # Categorização com o mapeamento certo\\n    df_pesquisa_captacao_lancamentos.loc[:, nome_coluna_categoria] = categorizar_coluna_batch(\\n        df_pesquisa_captacao_lancamentos[coluna],\\n        mapeamento_expandido,\\n        mapeamento_embeddings,\\n        model,\\n        threshold=0.6,\\n        desc=coluna\\n    )\\n'"
      ]
     },
     "execution_count": 23,
     "metadata": {},
     "output_type": "execute_result"
    }
   ],
   "source": [
    "\"\"\"\n",
    "model = SentenceTransformer(\"all-MiniLM-L6-v2\")\n",
    "\n",
    "# Mapas distintos por coluna\n",
    "mapeamentos = {\n",
    "    'problema_aprender': mapeamento_problema_aprender,\n",
    "    'profissao': mapeamento_profissoes,\n",
    "    'fala_outro_idioma': mapeamento_outros_idiomas,\n",
    "    'motivo_fluencia_espanhol': mapeamento_motivo_fluencia,\n",
    "    'escolaridade': mapeamento_escolaridade\n",
    "}\n",
    "\n",
    "for coluna, mapeamento in mapeamentos.items():\n",
    "    nome_coluna_categoria = f\"{coluna}_categoria\"\n",
    "\n",
    "    # Expandir mapeamento para esta coluna\n",
    "    mapeamento_expandido, mapeamento_embeddings = preparar_para_categoria(mapeamento, model)\n",
    "\n",
    "    # Categorização com o mapeamento certo\n",
    "    df_pesquisa_captacao_lancamentos.loc[:, nome_coluna_categoria] = categorizar_coluna_batch(\n",
    "        df_pesquisa_captacao_lancamentos[coluna],\n",
    "        mapeamento_expandido,\n",
    "        mapeamento_embeddings,\n",
    "        model,\n",
    "        threshold=0.6,\n",
    "        desc=coluna\n",
    "    )\n",
    "\"\"\""
   ]
  },
  {
   "cell_type": "code",
   "execution_count": 24,
   "id": "d6422832-321b-437a-a953-a26b6764c6a8",
   "metadata": {
    "execution": {
     "iopub.execute_input": "2025-05-09T09:45:33.704677Z",
     "iopub.status.busy": "2025-05-09T09:45:33.704677Z",
     "iopub.status.idle": "2025-05-09T09:45:33.713827Z",
     "shell.execute_reply": "2025-05-09T09:45:33.713827Z"
    },
    "papermill": {
     "duration": 0.026352,
     "end_time": "2025-05-09T09:45:33.717362",
     "exception": false,
     "start_time": "2025-05-09T09:45:33.691010",
     "status": "completed"
    },
    "tags": []
   },
   "outputs": [
    {
     "data": {
      "text/plain": [
       "'# Exibir strings completas\\npd.set_option(\"display.max_colwidth\", None)\\n\\n# Colunas categorizadas e respectivas colunas originais\\ncategorias = {\\n    \"problema_aprender\": \"problema_aprender_categoria\",\\n    \"profissao\": \"profissao_categoria\",\\n    \"fala_outro_idioma\": \"fala_outro_idioma_categoria\",\\n    \"motivo_fluencia_espanhol\": \"motivo_fluencia_espanhol_categoria\",\\n    \"escolaridade\": \"escolaridade_categoria\"\\n}\\n\\n# Categorias problemáticas\\ncategorias_problema = [\"Outros\"]\\n\\n# Loop para filtrar e exibir como DataFrame formatado\\nfor original_col, categoria_col in categorias.items():\\n    for problema in categorias_problema:\\n        print(f\"\\n=== Valores de \\'{original_col}\\' categorizados como \\'{problema}\\' ===\")\\n\\n        filtro = df_pesquisa_captacao_lancamentos[categoria_col] == problema\\n        valores = df_pesquisa_captacao_lancamentos.loc[filtro, original_col].value_counts()\\n\\n        # Envolver cada valor com aspas\\n        valores.index = [f\\'\"{val}\"\\' for val in valores.index]\\n\\n        # Converter para DataFrame para visualização completa\\n        valores_df = valores.reset_index().head(300)\\n        valores_df.columns = [\\'valor_original\\', \\'frequencia\\']\\n\\n        # Exibir o resultado completo\\n        print(valores_df.to_string(index=False))\\n'"
      ]
     },
     "execution_count": 24,
     "metadata": {},
     "output_type": "execute_result"
    }
   ],
   "source": [
    "\"\"\"# Exibir strings completas\n",
    "pd.set_option(\"display.max_colwidth\", None)\n",
    "\n",
    "# Colunas categorizadas e respectivas colunas originais\n",
    "categorias = {\n",
    "    \"problema_aprender\": \"problema_aprender_categoria\",\n",
    "    \"profissao\": \"profissao_categoria\",\n",
    "    \"fala_outro_idioma\": \"fala_outro_idioma_categoria\",\n",
    "    \"motivo_fluencia_espanhol\": \"motivo_fluencia_espanhol_categoria\",\n",
    "    \"escolaridade\": \"escolaridade_categoria\"\n",
    "}\n",
    "\n",
    "# Categorias problemáticas\n",
    "categorias_problema = [\"Outros\"]\n",
    "\n",
    "# Loop para filtrar e exibir como DataFrame formatado\n",
    "for original_col, categoria_col in categorias.items():\n",
    "    for problema in categorias_problema:\n",
    "        print(f\"\\n=== Valores de '{original_col}' categorizados como '{problema}' ===\")\n",
    "\n",
    "        filtro = df_pesquisa_captacao_lancamentos[categoria_col] == problema\n",
    "        valores = df_pesquisa_captacao_lancamentos.loc[filtro, original_col].value_counts()\n",
    "\n",
    "        # Envolver cada valor com aspas\n",
    "        valores.index = [f'\"{val}\"' for val in valores.index]\n",
    "\n",
    "        # Converter para DataFrame para visualização completa\n",
    "        valores_df = valores.reset_index().head(300)\n",
    "        valores_df.columns = ['valor_original', 'frequencia']\n",
    "\n",
    "        # Exibir o resultado completo\n",
    "        print(valores_df.to_string(index=False))\n",
    "\"\"\""
   ]
  },
  {
   "cell_type": "code",
   "execution_count": 25,
   "id": "27cd9eb8-e480-4fdf-9f90-63ec48ca35ae",
   "metadata": {
    "execution": {
     "iopub.execute_input": "2025-05-09T09:45:33.734517Z",
     "iopub.status.busy": "2025-05-09T09:45:33.734517Z",
     "iopub.status.idle": "2025-05-09T09:45:33.744502Z",
     "shell.execute_reply": "2025-05-09T09:45:33.744502Z"
    },
    "papermill": {
     "duration": 0.018616,
     "end_time": "2025-05-09T09:45:33.744502",
     "exception": false,
     "start_time": "2025-05-09T09:45:33.725886",
     "status": "completed"
    },
    "tags": []
   },
   "outputs": [
    {
     "data": {
      "text/plain": [
       "\"df_pesquisa_captacao_lancamentos = df_pesquisa_captacao_lancamentos.drop([\\n    'profissao',\\n    'fala_outro_idioma',\\n    'motivo_fluencia_espanhol',\\n    'escolaridade',\\n    'problema_aprender'\\n], axis=1, errors='ignore')\\n\""
      ]
     },
     "execution_count": 25,
     "metadata": {},
     "output_type": "execute_result"
    }
   ],
   "source": [
    "\"\"\"df_pesquisa_captacao_lancamentos = df_pesquisa_captacao_lancamentos.drop([\n",
    "    'profissao',\n",
    "    'fala_outro_idioma',\n",
    "    'motivo_fluencia_espanhol',\n",
    "    'escolaridade',\n",
    "    'problema_aprender'\n",
    "], axis=1, errors='ignore')\n",
    "\"\"\""
   ]
  },
  {
   "cell_type": "code",
   "execution_count": 26,
   "id": "52f80fe0-c32a-4e8f-9a8c-4eb9c2e6cc97",
   "metadata": {
    "execution": {
     "iopub.execute_input": "2025-05-09T09:45:33.759060Z",
     "iopub.status.busy": "2025-05-09T09:45:33.759060Z",
     "iopub.status.idle": "2025-05-09T09:45:33.918403Z",
     "shell.execute_reply": "2025-05-09T09:45:33.918403Z"
    },
    "papermill": {
     "duration": 0.167745,
     "end_time": "2025-05-09T09:45:33.918403",
     "exception": false,
     "start_time": "2025-05-09T09:45:33.750658",
     "status": "completed"
    },
    "tags": []
   },
   "outputs": [],
   "source": [
    "from gspread_dataframe import set_with_dataframe\n",
    "from datetime import datetime\n",
    "\n",
    "# Carrega as variáveis de ambiente\n",
    "load_dotenv()\n",
    "\n",
    "# Pega o caminho de forma segura\n",
    "credenciais_path = os.getenv(\"GOOGLE_CREDENTIALS_PATH\")\n",
    "\n",
    "# === Escopos de acesso ===\n",
    "scopes = [\n",
    "    \"https://www.googleapis.com/auth/spreadsheets\",\n",
    "    \"https://www.googleapis.com/auth/drive\"\n",
    "]\n",
    "\n",
    "# === Autenticar ===\n",
    "creds = service_account.Credentials.from_service_account_file(\n",
    "    credenciais_path,\n",
    "    scopes=scopes\n",
    ")\n",
    "client = gspread.authorize(creds)\n",
    "\n",
    "# === Função para criar nova planilha e carregar dados ===\n",
    "def criar_planilha_e_enviar(df, nome_base):\n",
    "    nome_final = nome_base\n",
    "    \n",
    "    # Cria nova planilha\n",
    "    planilha = client.create(nome_final)\n",
    "    \n",
    "    # Compartilha com seu e-mail pessoal (aqui você coloca o seu)\n",
    "    planilha.share('camilobf2@gmail.com', perm_type='user', role='writer')  # <<< Trocar pelo seu email do Gmail\n",
    "\n",
    "    # Preenche a primeira aba\n",
    "    aba = planilha.sheet1\n",
    "    aba.update_title(\"Dados\")\n",
    "    set_with_dataframe(aba, df)\n",
    "    \n",
    "    print(f\"✅ Nova planilha criada: {nome_final}\")\n",
    "    print(f\"🔗 Link: https://docs.google.com/spreadsheets/d/{planilha.id}/edit\")\n",
    "\n",
    "# === Geração dos arquivos ===\n",
    "#criar_planilha_e_enviar(df_pesquisa_captacao, \"pesquisa_captacao\")\n",
    "#criar_planilha_e_enviar(df_pesquisa_compradores_l12, \"pesquisa_aluno\")\n",
    "#criar_planilha_e_enviar(df_leads_invest_trafego, \"invest_trafego\")"
   ]
  },
  {
   "cell_type": "code",
   "execution_count": 27,
   "id": "26e67459-06bd-4cf3-b9cc-9c45bc4e150b",
   "metadata": {
    "execution": {
     "iopub.execute_input": "2025-05-09T09:45:33.936681Z",
     "iopub.status.busy": "2025-05-09T09:45:33.936681Z",
     "iopub.status.idle": "2025-05-09T09:46:42.152032Z",
     "shell.execute_reply": "2025-05-09T09:46:42.152032Z"
    },
    "papermill": {
     "duration": 68.247798,
     "end_time": "2025-05-09T09:46:42.166201",
     "exception": false,
     "start_time": "2025-05-09T09:45:33.918403",
     "status": "completed"
    },
    "tags": []
   },
   "outputs": [
    {
     "name": "stdout",
     "output_type": "stream",
     "text": [
      "✅ Planilha atualizada: https://docs.google.com/spreadsheets/d/1ukLwu8SoP0U3uirB6w1Ca3TPEITY50c558xNUUN3kj4/edit\n"
     ]
    },
    {
     "name": "stdout",
     "output_type": "stream",
     "text": [
      "✅ Planilha atualizada: https://docs.google.com/spreadsheets/d/1GDCAa1fiflDIBnRY9rrdY9ghKwS6DPzxIG9FYGZEsQU/edit\n"
     ]
    }
   ],
   "source": [
    "# === Função para atualizar uma planilha existente ===\n",
    "def atualizar_planilha_existente(df: pd.DataFrame, sheet_id: str, aba_nome: str = \"Dados\"):\n",
    "    \"\"\"\n",
    "    Atualiza uma aba específica de uma planilha no Google Sheets.\n",
    "    \n",
    "    - df: DataFrame com os dados que serão enviados\n",
    "    - sheet_id: ID da planilha (o que vem na URL depois de \"/d/\")\n",
    "    - aba_nome: Nome da aba que será atualizada (default: 'Dados')\n",
    "    \"\"\"\n",
    "    try:\n",
    "        planilha = client.open_by_key(sheet_id)\n",
    "        try:\n",
    "            aba = planilha.worksheet(aba_nome)\n",
    "        except gspread.WorksheetNotFound:\n",
    "            aba = planilha.add_worksheet(title=aba_nome, rows=\"1000\", cols=\"20\")\n",
    "        \n",
    "        aba.clear()  # Limpa dados antigos\n",
    "        set_with_dataframe(aba, df)\n",
    "        \n",
    "        print(f\"✅ Planilha atualizada: https://docs.google.com/spreadsheets/d/{sheet_id}/edit\")\n",
    "    except Exception as e:\n",
    "        print(f\"❌ Erro ao atualizar a planilha: {e}\")\n",
    "\n",
    "# === IDs das planilhas (FIXOS, preencha certinho aqui) ===\n",
    "id_pesquisa_captacao = \"1ukLwu8SoP0U3uirB6w1Ca3TPEITY50c558xNUUN3kj4\"\n",
    "id_pesquisa_aluno = \"1GDCAa1fiflDIBnRY9rrdY9ghKwS6DPzxIG9FYGZEsQU\"\n",
    "\n",
    "\n",
    "# === Atualizar todas as planilhas ===\n",
    "atualizar_planilha_existente(df_pesquisa_captacao, id_pesquisa_captacao)\n",
    "atualizar_planilha_existente(df_pesquisa_compradores_l12, id_pesquisa_aluno)"
   ]
  },
  {
   "cell_type": "code",
   "execution_count": 28,
   "id": "233e74a5-34fc-49da-afcb-d0355f2441d8",
   "metadata": {
    "execution": {
     "iopub.execute_input": "2025-05-09T09:46:42.198527Z",
     "iopub.status.busy": "2025-05-09T09:46:42.198527Z",
     "iopub.status.idle": "2025-05-09T09:46:42.347372Z",
     "shell.execute_reply": "2025-05-09T09:46:42.345361Z"
    },
    "papermill": {
     "duration": 0.167249,
     "end_time": "2025-05-09T09:46:42.350942",
     "exception": false,
     "start_time": "2025-05-09T09:46:42.183693",
     "status": "completed"
    },
    "tags": []
   },
   "outputs": [],
   "source": [
    "from datetime import datetime\n",
    "import pytz\n",
    "\n",
    "fuso_brasil = pytz.timezone(\"America/Sao_Paulo\")\n",
    "agora_brasil = datetime.now(fuso_brasil)\n",
    "\n",
    "with open(\"ultima_atualizacao.txt\", \"w\") as f:\n",
    "    f.write(agora_brasil.strftime(\"%Y-%m-%d %H:%M:%S\"))"
   ]
  },
  {
   "cell_type": "code",
   "execution_count": 29,
   "id": "60f1aa28-a680-4445-b549-de028d15f826",
   "metadata": {
    "execution": {
     "iopub.execute_input": "2025-05-09T09:46:42.381595Z",
     "iopub.status.busy": "2025-05-09T09:46:42.381595Z",
     "iopub.status.idle": "2025-05-09T09:46:42.391863Z",
     "shell.execute_reply": "2025-05-09T09:46:42.391863Z"
    },
    "papermill": {
     "duration": 0.032708,
     "end_time": "2025-05-09T09:46:42.397608",
     "exception": false,
     "start_time": "2025-05-09T09:46:42.364900",
     "status": "completed"
    },
    "tags": []
   },
   "outputs": [],
   "source": [
    "try:\n",
    "    with open(\"ultima_atualizacao.txt\", \"r\") as f:\n",
    "        texto = f.read()\n",
    "        data_atualizacao = datetime.strptime(texto, \"%Y-%m-%d %H:%M:%S\")\n",
    "        data_atualizacao_formatada = data_atualizacao.strftime(\"%d/%m/%Y %H:%M\")\n",
    "except Exception:\n",
    "    data_atualizacao_formatada = \"Desconhecida\""
   ]
  },
  {
   "cell_type": "code",
   "execution_count": 30,
   "id": "1d66e363-1e08-4e6c-8c5b-ad881de22f32",
   "metadata": {
    "execution": {
     "iopub.execute_input": "2025-05-09T09:46:42.424435Z",
     "iopub.status.busy": "2025-05-09T09:46:42.424435Z",
     "iopub.status.idle": "2025-05-09T09:46:42.437693Z",
     "shell.execute_reply": "2025-05-09T09:46:42.436423Z"
    },
    "papermill": {
     "duration": 0.034859,
     "end_time": "2025-05-09T09:46:42.441024",
     "exception": false,
     "start_time": "2025-05-09T09:46:42.406165",
     "status": "completed"
    },
    "tags": []
   },
   "outputs": [
    {
     "data": {
      "text/plain": [
       "'**Última atualização:** 09/05/2025 06:46'"
      ]
     },
     "execution_count": 30,
     "metadata": {},
     "output_type": "execute_result"
    }
   ],
   "source": [
    "f\"**Última atualização:** {data_atualizacao_formatada}\""
   ]
  },
  {
   "cell_type": "code",
   "execution_count": 31,
   "id": "31ee6dba-29ce-42ba-8986-8a7c95310288",
   "metadata": {
    "execution": {
     "iopub.execute_input": "2025-05-09T09:46:42.493667Z",
     "iopub.status.busy": "2025-05-09T09:46:42.493667Z",
     "iopub.status.idle": "2025-05-09T09:46:42.661220Z",
     "shell.execute_reply": "2025-05-09T09:46:42.659451Z"
    },
    "papermill": {
     "duration": 0.189838,
     "end_time": "2025-05-09T09:46:42.661220",
     "exception": false,
     "start_time": "2025-05-09T09:46:42.471382",
     "status": "completed"
    },
    "tags": []
   },
   "outputs": [
    {
     "name": "stdout",
     "output_type": "stream",
     "text": [
      "\n",
      "Coluna: idade\n",
      "idade\n",
      "23-27         9050\n",
      "18-22         8466\n",
      "28-32         7395\n",
      "38-45         6833\n",
      "33-37         5988\n",
      "46-52         3108\n",
      "53 ou mais    1238\n",
      "Name: count, dtype: int64\n",
      "\n",
      "Coluna: nível\n",
      "nível\n",
      "Técnica     31799\n",
      "Superior    10279\n",
      "Name: count, dtype: int64\n",
      "\n",
      "Coluna: situação profissional\n",
      "situação profissional\n",
      "Funcionário de empresa privada                          17719\n",
      "Autônomo                                                10390\n",
      "Desempregado(a)                                          9594\n",
      "Funcionário público                                      2877\n",
      "Empresário                                                833\n",
      "Já sou funcionário terceirizado do sistema Petrobras      665\n",
      "Name: count, dtype: int64\n",
      "\n",
      "Coluna: renda\n",
      "renda\n",
      "De 1.000 a 3.000         21223\n",
      "De 3.000 a 5.000          7922\n",
      "De 0 a 1.000              5369\n",
      "Estou desempregado(a)     4771\n",
      "De 5.000 a 10.000         2413\n",
      "Mais de 10.000             380\n",
      "Name: count, dtype: int64\n",
      "\n",
      "Coluna: escolaridade\n",
      "escolaridade\n",
      "Ensino médio completo         25031\n",
      "Ensino superior completo       5780\n",
      "Ensino superior incompleto     5477\n",
      "Nível técnico completo         3954\n",
      "Nível técnico incompleto       1836\n",
      "Name: count, dtype: int64\n",
      "\n",
      "Coluna: duvida\n",
      "duvida\n",
      "Nenhuma                                        654\n",
      "1                                              642\n",
      "10                                             431\n",
      "Nenhuma                                        301\n",
      "Salário                                        258\n",
      "                                              ... \n",
      "Nenhuma só trabalhar                             1\n",
      "Trabalhei na Venezuela com petróleo              1\n",
      "Que será uma prova muito difícil                 1\n",
      "Qual a função pra nível médio que paga 19k?      1\n",
      "como passar na prova                             1\n",
      "Name: count, Length: 24916, dtype: int64\n",
      "\n",
      "Coluna: dificuldade\n",
      "dificuldade\n",
      "Tempo                                             5434\n",
      "Nenhuma                                           3315\n",
      "Tempo                                             2899\n",
      "Nenhuma                                           1579\n",
      "Concentração                                      1477\n",
      "                                                  ... \n",
      "Depressão                                            1\n",
      "Programação de horario e de conteúdo                 1\n",
      "Não tenho condições de pagar um curso                1\n",
      "Não ter conhecimento do que vai cair na prova        1\n",
      "Cansaço diária                                       1\n",
      "Name: count, Length: 11295, dtype: int64\n",
      "\n",
      "Coluna: utm_source\n",
      "utm_source\n",
      "Facebook-Ads    19812\n",
      "NaN             15966\n",
      "Instagram        4064\n",
      "Tiktok           1476\n",
      "Youtube           759\n",
      "awsales             1\n",
      "Name: count, dtype: int64\n",
      "\n",
      "Coluna: utm_campaign\n",
      "utm_campaign\n",
      "NaN                                                                               15966\n",
      "SSP-L13 | CAPTACAO | CBO | FRIO | ALL | BR | 30-05-25 | Lookalike e Interesses     6552\n",
      "                                                                                   6301\n",
      "SSP-L12 | CAPTACAO | CBO | QUENTE | ALL | BR | 03-04-2025 | ENVOLVIMENTO           5752\n",
      "SSP-L12 | CAPTACAO | CBO | FRIO | ALL | BR | 31-03-25 | Lookalike e Interesses     4246\n",
      "SSP-L13 | CAPTACAO | CBO | QUENTE | ALL | BR | 30-04-2025 | ENVOLVIMENTO           1902\n",
      "SSP-L13 | CAPTACAO | CBO | QUENTE | ALL | BR | 30-04-2025 | LEADS                   832\n",
      "{{campaign.name}}                                                                   455\n",
      "SSP-L12 | CAPTACAO | CBO | QUENTE | ALL | BR | 03-04-2025 | LEADS                    34\n",
      "SSP-L12 | CAPTACAO | CBO | QUENTE | ALL | BR | 03-04-2025 |                          28\n",
      "SSP-L12 | CAPTACAO | CBO | FRIO | ALL | BR | 03-04-25 | Interesses                    9\n",
      "SSP-L13 | CAPTACAO | CBO | FRIO | ALL | BR | 30-04-25 | Interesses                    1\n",
      "Name: count, dtype: int64\n",
      "\n",
      "Coluna: utm_medium\n",
      "utm_medium\n",
      "NaN                                                15966\n",
      "Bio                                                 4391\n",
      "00 | AUTO | ENVOLVIMENTO | 90D                      3661\n",
      "00 | AUTO | LAL | 1%  | INTIATE CHECKOUT | 180D     3563\n",
      "00 | AUTO | LAL | 1%  | ENVOLVIMENTO IG 14D         2523\n",
      "00 | AUTO | ENVOLVIMENTO | 30D                      2387\n",
      "00 | AUTO | LAL | 1%  | ENVOLVIMENTO IG | 30D       2319\n",
      "00 | AUTO | LAL | 1% | ENVOLVIMENTO IG 7D           1813\n",
      "00 | AUTO | ENVOLVIMENTO | 14D                      1591\n",
      "Stories                                             1149\n",
      "Descricao                                            759\n",
      "00 | AUTO | PAGEVIEW | 30D                           599\n",
      "00 | AUTO | LAL | 1% | LEADS SSP - L12               500\n",
      "{{adset.name}}                                       455\n",
      "00 | AUTO | PAGEVIEW | 14D                           152\n",
      "00 | AUTO | LISTA | LEADS GERAL                      115\n",
      "00 | AUTO | LAL | 1% | COMPRADORES SSP - L12          79\n",
      "00 | AUTO | SEGUIDORES                                26\n",
      "00 | AUTO | SALVOU + ENVIOU MSG | 365D                15\n",
      "00 | AUTO | INTERESSES | PETROBRAS                    11\n",
      "                                                       2\n",
      "00 | AUTO | CHECKOUT | 180D                            1\n",
      "00 | AUTO | CHECKOUT | 90D                             1\n",
      "Name: count, dtype: int64\n",
      "\n",
      "Coluna: utm_content\n",
      "utm_content\n",
      "NaN                             15966\n",
      "ADS_VID_002_ANUNCIO PETRO 02     7224\n",
      "                                 6301\n",
      "ADS_006_ANUNCIO PETRO 06         4386\n",
      "ADS_007_ANUNCIO PETRO 07         3415\n",
      "ADS_008_ANUNCIO PETRO 08         1614\n",
      "ADS_VID_006_ANUNCIO PETRO 06     1329\n",
      "ADS_VID_001_ANUNCIO PETRO 01      563\n",
      "ADS_001_ANUNCIO PETRO 01          508\n",
      "{{ad.name}}                       455\n",
      "ADS_VID_008_ANUNCIO PETRO 08      101\n",
      "ADS_002_ANUNCIO PETRO 02           55\n",
      "ADS_003_ANUNCIO PETRO 03           52\n",
      "ADS_010_ANUNCIO PETRO 10           39\n",
      "ADS_VID_004_ANUNCIO PETRO 04       22\n",
      "ADS_VID_005_ANUNCIO PETRO 05       18\n",
      "ADS_VID_003_ANUNCIO PETRO 03       17\n",
      "ADS_VID_007_ANUNCIO PETRO 07       13\n",
      "Name: count, dtype: int64\n",
      "\n",
      "Coluna: lancamentos\n",
      "lancamentos\n",
      "NaN        15966\n",
      "SSP-L12    15639\n",
      "SSP-L13    10473\n",
      "Name: count, dtype: int64\n"
     ]
    }
   ],
   "source": [
    "colunas_excluir = [\"data\", \"email\"]\n",
    "\n",
    "for coluna in df_pesquisa_captacao.columns:\n",
    "    if coluna not in colunas_excluir:\n",
    "        print(f\"\\nColuna: {coluna}\")\n",
    "        print(df_pesquisa_captacao[coluna].value_counts(dropna=False))"
   ]
  },
  {
   "cell_type": "code",
   "execution_count": 32,
   "id": "a914074e-8189-4d71-be59-86a91eeaaa70",
   "metadata": {
    "execution": {
     "iopub.execute_input": "2025-05-09T09:46:42.694535Z",
     "iopub.status.busy": "2025-05-09T09:46:42.694535Z",
     "iopub.status.idle": "2025-05-09T09:46:42.719321Z",
     "shell.execute_reply": "2025-05-09T09:46:42.718009Z"
    },
    "papermill": {
     "duration": 0.0435,
     "end_time": "2025-05-09T09:46:42.721338",
     "exception": false,
     "start_time": "2025-05-09T09:46:42.677838",
     "status": "completed"
    },
    "tags": []
   },
   "outputs": [
    {
     "name": "stdout",
     "output_type": "stream",
     "text": [
      "\n",
      "Coluna: idade\n",
      "idade\n",
      "23-27         50\n",
      "38-45         39\n",
      "28-32         35\n",
      "33-37         32\n",
      "46-52         24\n",
      "18-22         17\n",
      "53 ou mais     6\n",
      "Name: count, dtype: int64\n",
      "\n",
      "Coluna: nível\n",
      "nível\n",
      "Técnica     171\n",
      "Superior     32\n",
      "Name: count, dtype: int64\n",
      "\n",
      "Coluna: situação profissional\n",
      "situação profissional\n",
      "Funcionário de empresa privada                          104\n",
      "Desempregado(a)                                          41\n",
      "Autônomo                                                 33\n",
      "Empresário                                               12\n",
      "Funcionário público                                      11\n",
      "Já sou funcionário terceirizado do sistema Petrobras      2\n",
      "Name: count, dtype: int64\n",
      "\n",
      "Coluna: renda\n",
      "renda\n",
      "De 1.000 a 3.000         81\n",
      "De 3.000 a 5.000         59\n",
      "De 5.000 a 10.000        27\n",
      "Estou desempregado(a)    22\n",
      "De 0 a 1.000             11\n",
      "Mais de 10.000            3\n",
      "Name: count, dtype: int64\n",
      "\n",
      "Coluna: escolaridade\n",
      "escolaridade\n",
      "Ensino médio completo         74\n",
      "Ensino superior completo      62\n",
      "Nível técnico completo        42\n",
      "Ensino superior incompleto    23\n",
      "Nível técnico incompleto       2\n",
      "Name: count, dtype: int64\n",
      "\n",
      "Coluna: duvida\n",
      "duvida\n",
      "O que estudar                                                                        5\n",
      "Como passar                                                                          3\n",
      "O que estudar                                                                        3\n",
      "Como passar na prova                                                                 2\n",
      "Por onde começar os estudos                                                          2\n",
      "                                                                                    ..\n",
      "Faz tempo que não estudo. Será que ainda dá tempo pra retomar os estudos?            1\n",
      "Se e difícil passar na prova                                                         1\n",
      "minha dúvida maior e sobre as horas trabalhadas e como é a trajetória na empresa     1\n",
      "Qual empresa irá fazer a seleção?                                                    1\n",
      "Qual a cultura médio para se fazer é entrar na Petrobrás                             1\n",
      "Name: count, Length: 184, dtype: int64\n",
      "\n",
      "Coluna: dificuldade\n"
     ]
    },
    {
     "name": "stdout",
     "output_type": "stream",
     "text": [
      "dificuldade\n",
      "Tempo                                                                                                                           25\n",
      "Concentração                                                                                                                    16\n",
      "Tempo                                                                                                                           10\n",
      "Disciplina                                                                                                                       6\n",
      "Foco                                                                                                                             5\n",
      "                                                                                                                                ..\n",
      "Memorização do conteúdo                                                                                                          1\n",
      "Organizar horário                                                                                                                1\n",
      "Maior dificuldade e gravar tudo , ou aprender rudo                                                                               1\n",
      "Não saber administrar meu tempo                                                                                                  1\n",
      "Ter disponibilidade financeira para adquirir cursos que me capacitem a fazer uma boa prova e consequentemente, ser aprovado.     1\n",
      "Name: count, Length: 127, dtype: int64\n",
      "\n",
      "Coluna: utm_source\n",
      "utm_source\n",
      "NaN             57\n",
      "Facebook-Ads    54\n",
      "Instagram       43\n",
      "Youtube         35\n",
      "Tiktok          14\n",
      "Name: count, dtype: int64\n",
      "\n",
      "Coluna: utm_campaign\n",
      "utm_campaign\n",
      "                                                                                  92\n",
      "NaN                                                                               57\n",
      "SSP-L12 | CAPTACAO | CBO | QUENTE | ALL | BR | 03-04-2025 | ENVOLVIMENTO          44\n",
      "SSP-L12 | CAPTACAO | CBO | FRIO | ALL | BR | 31-03-25 | Lookalike e Interesses     7\n",
      "SSP-L12 | CAPTACAO | CBO | QUENTE | ALL | BR | 03-04-2025 | LEADS                  1\n",
      "{{campaign.name}}                                                                  1\n",
      "SSP-L13 | CAPTACAO | CBO | QUENTE | ALL | BR | 30-04-2025 | ENVOLVIMENTO           1\n",
      "Name: count, dtype: int64\n",
      "\n",
      "Coluna: utm_medium\n",
      "utm_medium\n",
      "NaN                                              57\n",
      "Bio                                              45\n",
      "Descricao                                        35\n",
      "00 | AUTO | ENVOLVIMENTO | 90D                   21\n",
      "00 | AUTO | ENVOLVIMENTO | 30D                   15\n",
      "Stories                                          12\n",
      "00 | AUTO | ENVOLVIMENTO | 14D                    9\n",
      "00 | AUTO | LAL | 1%  | ENVOLVIMENTO IG 14D       3\n",
      "00 | AUTO | LAL | 1%  | ENVOLVIMENTO IG | 30D     3\n",
      "00 | AUTO | SEGUIDORES                            1\n",
      "00 | AUTO | LAL | 1% | ENVOLVIMENTO IG 7D         1\n",
      "{{adset.name}}                                    1\n",
      "Name: count, dtype: int64\n",
      "\n",
      "Coluna: utm_content\n",
      "utm_content\n",
      "                                92\n",
      "NaN                             57\n",
      "ADS_007_ANUNCIO PETRO 07        20\n",
      "ADS_008_ANUNCIO PETRO 08        12\n",
      "ADS_001_ANUNCIO PETRO 01         9\n",
      "ADS_006_ANUNCIO PETRO 06         9\n",
      "ADS_003_ANUNCIO PETRO 03         2\n",
      "{{ad.name}}                      1\n",
      "ADS_VID_002_ANUNCIO PETRO 02     1\n",
      "Name: count, dtype: int64\n",
      "\n",
      "Coluna: lancamentos\n",
      "lancamentos\n",
      "SSP-L12    139\n",
      "NaN         57\n",
      "SSP-L13      7\n",
      "Name: count, dtype: int64\n"
     ]
    }
   ],
   "source": [
    "colunas_excluir = [\"data\", \"email\"]\n",
    "\n",
    "for coluna in df_pesquisa_compradores_l12.columns:\n",
    "    if coluna not in colunas_excluir:\n",
    "        print(f\"\\nColuna: {coluna}\")\n",
    "        print(df_pesquisa_compradores_l12[coluna].value_counts(dropna=False))"
   ]
  }
 ],
 "metadata": {
  "kernelspec": {
   "display_name": "Python (ambiente_controlado)",
   "language": "python",
   "name": "ambiente_controlado"
  },
  "language_info": {
   "codemirror_mode": {
    "name": "ipython",
    "version": 3
   },
   "file_extension": ".py",
   "mimetype": "text/x-python",
   "name": "python",
   "nbconvert_exporter": "python",
   "pygments_lexer": "ipython3",
   "version": "3.12.3"
  },
  "papermill": {
   "default_parameters": {},
   "duration": 153.96376,
   "end_time": "2025-05-09T09:46:43.520698",
   "environment_variables": {},
   "exception": null,
   "input_path": "C:\\Users\\Camilo_Bica\\data_science\\consultoria\\acelerador_petrobras\\notebooks\\tratamento_dados.ipynb",
   "output_path": "C:\\Users\\Camilo_Bica\\data_science\\consultoria\\acelerador_petrobras\\notebooks\\tratamento_dados_output.ipynb",
   "parameters": {},
   "start_time": "2025-05-09T09:44:09.556938",
   "version": "2.6.0"
  }
 },
 "nbformat": 4,
 "nbformat_minor": 5
}